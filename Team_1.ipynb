{
 "cells": [
  {
   "cell_type": "markdown",
   "id": "63495e51",
   "metadata": {},
   "source": [
    "# Team_1 NDSA B4\n",
    "# Competition - Supervised Learning"
   ]
  },
  {
   "cell_type": "markdown",
   "id": "684d00e8",
   "metadata": {},
   "source": [
    "### Domain : Tourism\n",
    "### Data : tour_package.csv\n",
    "#### Source : Kaggle Datasets"
   ]
  },
  {
   "cell_type": "markdown",
   "id": "02bff668",
   "metadata": {},
   "source": [
    "### Context:\n",
    "<ul>\n",
    "<li><b>Visit With Us</b> tourism company wants to establish a viable business model to expand its customer base\n",
    "\n",
    "<li>Currently there are 5 types of packages the company is offering - Basic, Standard, Deluxe, Super Deluxe, King. Over 18% of customers purchased a product from the available packages according to the data from the last year\n",
    "\n",
    "<li>However, the marketing cost was quite high because customers were contacted at random without looking at the available information.\n",
    "\n",
    "<li>The company is now planning to launch a new product <b>Wellness Tourism Package</b>. Wellness Tourism is defined as Travel that allows the traveler to maintain, enhance or kick-start a healthy lifestyle, and support or increase one's sense of well-being."
   ]
  },
  {
   "cell_type": "markdown",
   "id": "368278ec",
   "metadata": {},
   "source": [
    "### Objective:\n",
    "<ul>\n",
    "\n",
    "\n",
    "<li>To Predict customers more likely to purchase the newly introduced package\n",
    "</ul>\n"
   ]
  },
  {
   "cell_type": "markdown",
   "id": "2b232924",
   "metadata": {},
   "source": [
    "### Customer details:\n",
    "<ol>\n",
    "<li>CustomerID: Unique customer ID\n",
    "<li>ProdTaken: Whether the customer has purchased a package or not (0: No, 1: Yes)\n",
    "<li>Age: Age of customer\n",
    "<li>TypeofContact: How customer was contacted (Company Invited or Self Inquiry)\n",
    "<li>CityTier: City tier depends on the development of a city, population, facilities, and living standards. The categories are ordered i.e. Tier 1 > Tier 2 > Tier 3\n",
    "<li>Occupation: Occupation of customer\n",
    "<li>Gender: Gender of customer\n",
    "<li>NumberOfPersonVisiting: Total number of persons planning to take the trip with the customer\n",
    "<li>PreferredPropertyStar: Preferred hotel property rating by customer\n",
    "<li>MaritalStatus: Marital status of customer\n",
    "<li>NumberOfTrips: Average number of trips in a year by customer\n",
    "<li>Passport: The customer has a passport or not (0: No, 1: Yes)\n",
    "<li>OwnCar: Whether the customers own a car or not (0: No, 1: Yes)\n",
    "<li>NumberOfChildrenVisiting: Total number of children with age less than 5 planning to take the trip with the customer\n",
    "<li>Designation: Designation of the customer in the current organization\n",
    "<li>MonthlyIncome: Gross monthly income of the customer   \n",
    "    </ol>\n",
    "<b>Customer interaction data:</b>\n",
    "    <ol>\n",
    "<li>PitchSatisfactionScore: Sales pitch satisfaction score\n",
    "<li>ProductPitched: Product pitched by the salesperson\n",
    "<li>NumberOfFollowups: Total number of follow-ups has been done by the salesperson after the sales pitch\n",
    "<li>DurationOfPitch: Duration of the pitch by a salesperson to the customer  </ol>  "
   ]
  },
  {
   "cell_type": "code",
   "execution_count": 1,
   "id": "334d8c37",
   "metadata": {},
   "outputs": [],
   "source": [
    "import numpy as np\n",
    "import pandas as pd\n",
    "import matplotlib.pyplot as plt\n",
    "import seaborn as sns"
   ]
  },
  {
   "cell_type": "code",
   "execution_count": 2,
   "id": "3f6df1a6",
   "metadata": {},
   "outputs": [],
   "source": [
    "import warnings\n",
    "warnings.filterwarnings('ignore')"
   ]
  },
  {
   "cell_type": "markdown",
   "id": "28cd7f8b",
   "metadata": {},
   "source": [
    "# M1 :  Data collection"
   ]
  },
  {
   "cell_type": "code",
   "execution_count": 3,
   "id": "04335f42",
   "metadata": {},
   "outputs": [],
   "source": [
    "tour_df = pd.read_csv('tour_package.csv')"
   ]
  },
  {
   "cell_type": "code",
   "execution_count": 4,
   "id": "dfa50455",
   "metadata": {},
   "outputs": [
    {
     "data": {
      "text/html": [
       "<div>\n",
       "<style scoped>\n",
       "    .dataframe tbody tr th:only-of-type {\n",
       "        vertical-align: middle;\n",
       "    }\n",
       "\n",
       "    .dataframe tbody tr th {\n",
       "        vertical-align: top;\n",
       "    }\n",
       "\n",
       "    .dataframe thead th {\n",
       "        text-align: right;\n",
       "    }\n",
       "</style>\n",
       "<table border=\"1\" class=\"dataframe\">\n",
       "  <thead>\n",
       "    <tr style=\"text-align: right;\">\n",
       "      <th></th>\n",
       "      <th>CustomerID</th>\n",
       "      <th>ProdTaken</th>\n",
       "      <th>Age</th>\n",
       "      <th>TypeofContact</th>\n",
       "      <th>CityTier</th>\n",
       "      <th>DurationOfPitch</th>\n",
       "      <th>Occupation</th>\n",
       "      <th>Gender</th>\n",
       "      <th>NumberOfPersonVisiting</th>\n",
       "      <th>NumberOfFollowups</th>\n",
       "      <th>ProductPitched</th>\n",
       "      <th>PreferredPropertyStar</th>\n",
       "      <th>MaritalStatus</th>\n",
       "      <th>NumberOfTrips</th>\n",
       "      <th>Passport</th>\n",
       "      <th>PitchSatisfactionScore</th>\n",
       "      <th>OwnCar</th>\n",
       "      <th>NumberOfChildrenVisiting</th>\n",
       "      <th>Designation</th>\n",
       "      <th>MonthlyIncome</th>\n",
       "    </tr>\n",
       "  </thead>\n",
       "  <tbody>\n",
       "    <tr>\n",
       "      <th>0</th>\n",
       "      <td>200000</td>\n",
       "      <td>1</td>\n",
       "      <td>41.0</td>\n",
       "      <td>Self Enquiry</td>\n",
       "      <td>3</td>\n",
       "      <td>6.0</td>\n",
       "      <td>Salaried</td>\n",
       "      <td>Female</td>\n",
       "      <td>3</td>\n",
       "      <td>3.0</td>\n",
       "      <td>Deluxe</td>\n",
       "      <td>3.0</td>\n",
       "      <td>Single</td>\n",
       "      <td>1.0</td>\n",
       "      <td>1</td>\n",
       "      <td>2</td>\n",
       "      <td>1</td>\n",
       "      <td>0.0</td>\n",
       "      <td>Manager</td>\n",
       "      <td>20993.0</td>\n",
       "    </tr>\n",
       "    <tr>\n",
       "      <th>1</th>\n",
       "      <td>200001</td>\n",
       "      <td>0</td>\n",
       "      <td>49.0</td>\n",
       "      <td>Company Invited</td>\n",
       "      <td>1</td>\n",
       "      <td>14.0</td>\n",
       "      <td>Salaried</td>\n",
       "      <td>Male</td>\n",
       "      <td>3</td>\n",
       "      <td>4.0</td>\n",
       "      <td>Deluxe</td>\n",
       "      <td>4.0</td>\n",
       "      <td>Divorced</td>\n",
       "      <td>2.0</td>\n",
       "      <td>0</td>\n",
       "      <td>3</td>\n",
       "      <td>1</td>\n",
       "      <td>2.0</td>\n",
       "      <td>Manager</td>\n",
       "      <td>20130.0</td>\n",
       "    </tr>\n",
       "    <tr>\n",
       "      <th>2</th>\n",
       "      <td>200002</td>\n",
       "      <td>1</td>\n",
       "      <td>37.0</td>\n",
       "      <td>Self Enquiry</td>\n",
       "      <td>1</td>\n",
       "      <td>8.0</td>\n",
       "      <td>Free Lancer</td>\n",
       "      <td>Male</td>\n",
       "      <td>3</td>\n",
       "      <td>4.0</td>\n",
       "      <td>Basic</td>\n",
       "      <td>3.0</td>\n",
       "      <td>Single</td>\n",
       "      <td>7.0</td>\n",
       "      <td>1</td>\n",
       "      <td>3</td>\n",
       "      <td>0</td>\n",
       "      <td>0.0</td>\n",
       "      <td>Executive</td>\n",
       "      <td>17090.0</td>\n",
       "    </tr>\n",
       "    <tr>\n",
       "      <th>3</th>\n",
       "      <td>200003</td>\n",
       "      <td>0</td>\n",
       "      <td>33.0</td>\n",
       "      <td>Company Invited</td>\n",
       "      <td>1</td>\n",
       "      <td>9.0</td>\n",
       "      <td>Salaried</td>\n",
       "      <td>Female</td>\n",
       "      <td>2</td>\n",
       "      <td>3.0</td>\n",
       "      <td>Basic</td>\n",
       "      <td>3.0</td>\n",
       "      <td>Divorced</td>\n",
       "      <td>2.0</td>\n",
       "      <td>1</td>\n",
       "      <td>5</td>\n",
       "      <td>1</td>\n",
       "      <td>1.0</td>\n",
       "      <td>Executive</td>\n",
       "      <td>17909.0</td>\n",
       "    </tr>\n",
       "    <tr>\n",
       "      <th>4</th>\n",
       "      <td>200004</td>\n",
       "      <td>0</td>\n",
       "      <td>NaN</td>\n",
       "      <td>Self Enquiry</td>\n",
       "      <td>1</td>\n",
       "      <td>8.0</td>\n",
       "      <td>Small Business</td>\n",
       "      <td>Male</td>\n",
       "      <td>2</td>\n",
       "      <td>3.0</td>\n",
       "      <td>Basic</td>\n",
       "      <td>4.0</td>\n",
       "      <td>Divorced</td>\n",
       "      <td>1.0</td>\n",
       "      <td>0</td>\n",
       "      <td>5</td>\n",
       "      <td>1</td>\n",
       "      <td>0.0</td>\n",
       "      <td>Executive</td>\n",
       "      <td>18468.0</td>\n",
       "    </tr>\n",
       "  </tbody>\n",
       "</table>\n",
       "</div>"
      ],
      "text/plain": [
       "   CustomerID  ProdTaken   Age    TypeofContact  CityTier  DurationOfPitch  \\\n",
       "0      200000          1  41.0     Self Enquiry         3              6.0   \n",
       "1      200001          0  49.0  Company Invited         1             14.0   \n",
       "2      200002          1  37.0     Self Enquiry         1              8.0   \n",
       "3      200003          0  33.0  Company Invited         1              9.0   \n",
       "4      200004          0   NaN     Self Enquiry         1              8.0   \n",
       "\n",
       "       Occupation  Gender  NumberOfPersonVisiting  NumberOfFollowups  \\\n",
       "0        Salaried  Female                       3                3.0   \n",
       "1        Salaried    Male                       3                4.0   \n",
       "2     Free Lancer    Male                       3                4.0   \n",
       "3        Salaried  Female                       2                3.0   \n",
       "4  Small Business    Male                       2                3.0   \n",
       "\n",
       "  ProductPitched  PreferredPropertyStar MaritalStatus  NumberOfTrips  \\\n",
       "0         Deluxe                    3.0        Single            1.0   \n",
       "1         Deluxe                    4.0      Divorced            2.0   \n",
       "2          Basic                    3.0        Single            7.0   \n",
       "3          Basic                    3.0      Divorced            2.0   \n",
       "4          Basic                    4.0      Divorced            1.0   \n",
       "\n",
       "   Passport  PitchSatisfactionScore  OwnCar  NumberOfChildrenVisiting  \\\n",
       "0         1                       2       1                       0.0   \n",
       "1         0                       3       1                       2.0   \n",
       "2         1                       3       0                       0.0   \n",
       "3         1                       5       1                       1.0   \n",
       "4         0                       5       1                       0.0   \n",
       "\n",
       "  Designation  MonthlyIncome  \n",
       "0     Manager        20993.0  \n",
       "1     Manager        20130.0  \n",
       "2   Executive        17090.0  \n",
       "3   Executive        17909.0  \n",
       "4   Executive        18468.0  "
      ]
     },
     "execution_count": 4,
     "metadata": {},
     "output_type": "execute_result"
    }
   ],
   "source": [
    "tour_df.head()"
   ]
  },
  {
   "cell_type": "code",
   "execution_count": 5,
   "id": "776af91a",
   "metadata": {},
   "outputs": [
    {
     "data": {
      "text/plain": [
       "(4888, 20)"
      ]
     },
     "execution_count": 5,
     "metadata": {},
     "output_type": "execute_result"
    }
   ],
   "source": [
    "tour_df.shape"
   ]
  },
  {
   "cell_type": "markdown",
   "id": "04f84e22",
   "metadata": {},
   "source": [
    "There are 4888 rows and 20 columns in the data set."
   ]
  },
  {
   "cell_type": "code",
   "execution_count": 6,
   "id": "9b04ff38",
   "metadata": {},
   "outputs": [
    {
     "name": "stdout",
     "output_type": "stream",
     "text": [
      "<class 'pandas.core.frame.DataFrame'>\n",
      "RangeIndex: 4888 entries, 0 to 4887\n",
      "Data columns (total 20 columns):\n",
      " #   Column                    Non-Null Count  Dtype  \n",
      "---  ------                    --------------  -----  \n",
      " 0   CustomerID                4888 non-null   int64  \n",
      " 1   ProdTaken                 4888 non-null   int64  \n",
      " 2   Age                       4662 non-null   float64\n",
      " 3   TypeofContact             4863 non-null   object \n",
      " 4   CityTier                  4888 non-null   int64  \n",
      " 5   DurationOfPitch           4637 non-null   float64\n",
      " 6   Occupation                4888 non-null   object \n",
      " 7   Gender                    4888 non-null   object \n",
      " 8   NumberOfPersonVisiting    4888 non-null   int64  \n",
      " 9   NumberOfFollowups         4843 non-null   float64\n",
      " 10  ProductPitched            4888 non-null   object \n",
      " 11  PreferredPropertyStar     4862 non-null   float64\n",
      " 12  MaritalStatus             4888 non-null   object \n",
      " 13  NumberOfTrips             4748 non-null   float64\n",
      " 14  Passport                  4888 non-null   int64  \n",
      " 15  PitchSatisfactionScore    4888 non-null   int64  \n",
      " 16  OwnCar                    4888 non-null   int64  \n",
      " 17  NumberOfChildrenVisiting  4822 non-null   float64\n",
      " 18  Designation               4888 non-null   object \n",
      " 19  MonthlyIncome             4655 non-null   float64\n",
      "dtypes: float64(7), int64(7), object(6)\n",
      "memory usage: 763.9+ KB\n"
     ]
    }
   ],
   "source": [
    "tour_df.info()"
   ]
  },
  {
   "cell_type": "code",
   "execution_count": 7,
   "id": "e3fa001d",
   "metadata": {},
   "outputs": [
    {
     "data": {
      "text/html": [
       "<div>\n",
       "<style scoped>\n",
       "    .dataframe tbody tr th:only-of-type {\n",
       "        vertical-align: middle;\n",
       "    }\n",
       "\n",
       "    .dataframe tbody tr th {\n",
       "        vertical-align: top;\n",
       "    }\n",
       "\n",
       "    .dataframe thead th {\n",
       "        text-align: right;\n",
       "    }\n",
       "</style>\n",
       "<table border=\"1\" class=\"dataframe\">\n",
       "  <thead>\n",
       "    <tr style=\"text-align: right;\">\n",
       "      <th></th>\n",
       "      <th>CustomerID</th>\n",
       "      <th>ProdTaken</th>\n",
       "      <th>Age</th>\n",
       "      <th>CityTier</th>\n",
       "      <th>DurationOfPitch</th>\n",
       "      <th>NumberOfPersonVisiting</th>\n",
       "      <th>NumberOfFollowups</th>\n",
       "      <th>PreferredPropertyStar</th>\n",
       "      <th>NumberOfTrips</th>\n",
       "      <th>Passport</th>\n",
       "      <th>PitchSatisfactionScore</th>\n",
       "      <th>OwnCar</th>\n",
       "      <th>NumberOfChildrenVisiting</th>\n",
       "      <th>MonthlyIncome</th>\n",
       "    </tr>\n",
       "  </thead>\n",
       "  <tbody>\n",
       "    <tr>\n",
       "      <th>count</th>\n",
       "      <td>4888.000000</td>\n",
       "      <td>4888.000000</td>\n",
       "      <td>4662.000000</td>\n",
       "      <td>4888.000000</td>\n",
       "      <td>4637.000000</td>\n",
       "      <td>4888.000000</td>\n",
       "      <td>4843.000000</td>\n",
       "      <td>4862.000000</td>\n",
       "      <td>4748.000000</td>\n",
       "      <td>4888.000000</td>\n",
       "      <td>4888.000000</td>\n",
       "      <td>4888.000000</td>\n",
       "      <td>4822.000000</td>\n",
       "      <td>4655.000000</td>\n",
       "    </tr>\n",
       "    <tr>\n",
       "      <th>mean</th>\n",
       "      <td>202443.500000</td>\n",
       "      <td>0.188216</td>\n",
       "      <td>37.622265</td>\n",
       "      <td>1.654255</td>\n",
       "      <td>15.490835</td>\n",
       "      <td>2.905074</td>\n",
       "      <td>3.708445</td>\n",
       "      <td>3.581037</td>\n",
       "      <td>3.236521</td>\n",
       "      <td>0.290917</td>\n",
       "      <td>3.078151</td>\n",
       "      <td>0.620295</td>\n",
       "      <td>1.187267</td>\n",
       "      <td>23619.853491</td>\n",
       "    </tr>\n",
       "    <tr>\n",
       "      <th>std</th>\n",
       "      <td>1411.188388</td>\n",
       "      <td>0.390925</td>\n",
       "      <td>9.316387</td>\n",
       "      <td>0.916583</td>\n",
       "      <td>8.519643</td>\n",
       "      <td>0.724891</td>\n",
       "      <td>1.002509</td>\n",
       "      <td>0.798009</td>\n",
       "      <td>1.849019</td>\n",
       "      <td>0.454232</td>\n",
       "      <td>1.365792</td>\n",
       "      <td>0.485363</td>\n",
       "      <td>0.857861</td>\n",
       "      <td>5380.698361</td>\n",
       "    </tr>\n",
       "    <tr>\n",
       "      <th>min</th>\n",
       "      <td>200000.000000</td>\n",
       "      <td>0.000000</td>\n",
       "      <td>18.000000</td>\n",
       "      <td>1.000000</td>\n",
       "      <td>5.000000</td>\n",
       "      <td>1.000000</td>\n",
       "      <td>1.000000</td>\n",
       "      <td>3.000000</td>\n",
       "      <td>1.000000</td>\n",
       "      <td>0.000000</td>\n",
       "      <td>1.000000</td>\n",
       "      <td>0.000000</td>\n",
       "      <td>0.000000</td>\n",
       "      <td>1000.000000</td>\n",
       "    </tr>\n",
       "    <tr>\n",
       "      <th>25%</th>\n",
       "      <td>201221.750000</td>\n",
       "      <td>0.000000</td>\n",
       "      <td>31.000000</td>\n",
       "      <td>1.000000</td>\n",
       "      <td>9.000000</td>\n",
       "      <td>2.000000</td>\n",
       "      <td>3.000000</td>\n",
       "      <td>3.000000</td>\n",
       "      <td>2.000000</td>\n",
       "      <td>0.000000</td>\n",
       "      <td>2.000000</td>\n",
       "      <td>0.000000</td>\n",
       "      <td>1.000000</td>\n",
       "      <td>20346.000000</td>\n",
       "    </tr>\n",
       "    <tr>\n",
       "      <th>50%</th>\n",
       "      <td>202443.500000</td>\n",
       "      <td>0.000000</td>\n",
       "      <td>36.000000</td>\n",
       "      <td>1.000000</td>\n",
       "      <td>13.000000</td>\n",
       "      <td>3.000000</td>\n",
       "      <td>4.000000</td>\n",
       "      <td>3.000000</td>\n",
       "      <td>3.000000</td>\n",
       "      <td>0.000000</td>\n",
       "      <td>3.000000</td>\n",
       "      <td>1.000000</td>\n",
       "      <td>1.000000</td>\n",
       "      <td>22347.000000</td>\n",
       "    </tr>\n",
       "    <tr>\n",
       "      <th>75%</th>\n",
       "      <td>203665.250000</td>\n",
       "      <td>0.000000</td>\n",
       "      <td>44.000000</td>\n",
       "      <td>3.000000</td>\n",
       "      <td>20.000000</td>\n",
       "      <td>3.000000</td>\n",
       "      <td>4.000000</td>\n",
       "      <td>4.000000</td>\n",
       "      <td>4.000000</td>\n",
       "      <td>1.000000</td>\n",
       "      <td>4.000000</td>\n",
       "      <td>1.000000</td>\n",
       "      <td>2.000000</td>\n",
       "      <td>25571.000000</td>\n",
       "    </tr>\n",
       "    <tr>\n",
       "      <th>max</th>\n",
       "      <td>204887.000000</td>\n",
       "      <td>1.000000</td>\n",
       "      <td>61.000000</td>\n",
       "      <td>3.000000</td>\n",
       "      <td>127.000000</td>\n",
       "      <td>5.000000</td>\n",
       "      <td>6.000000</td>\n",
       "      <td>5.000000</td>\n",
       "      <td>22.000000</td>\n",
       "      <td>1.000000</td>\n",
       "      <td>5.000000</td>\n",
       "      <td>1.000000</td>\n",
       "      <td>3.000000</td>\n",
       "      <td>98678.000000</td>\n",
       "    </tr>\n",
       "  </tbody>\n",
       "</table>\n",
       "</div>"
      ],
      "text/plain": [
       "          CustomerID    ProdTaken          Age     CityTier  DurationOfPitch  \\\n",
       "count    4888.000000  4888.000000  4662.000000  4888.000000      4637.000000   \n",
       "mean   202443.500000     0.188216    37.622265     1.654255        15.490835   \n",
       "std      1411.188388     0.390925     9.316387     0.916583         8.519643   \n",
       "min    200000.000000     0.000000    18.000000     1.000000         5.000000   \n",
       "25%    201221.750000     0.000000    31.000000     1.000000         9.000000   \n",
       "50%    202443.500000     0.000000    36.000000     1.000000        13.000000   \n",
       "75%    203665.250000     0.000000    44.000000     3.000000        20.000000   \n",
       "max    204887.000000     1.000000    61.000000     3.000000       127.000000   \n",
       "\n",
       "       NumberOfPersonVisiting  NumberOfFollowups  PreferredPropertyStar  \\\n",
       "count             4888.000000        4843.000000            4862.000000   \n",
       "mean                 2.905074           3.708445               3.581037   \n",
       "std                  0.724891           1.002509               0.798009   \n",
       "min                  1.000000           1.000000               3.000000   \n",
       "25%                  2.000000           3.000000               3.000000   \n",
       "50%                  3.000000           4.000000               3.000000   \n",
       "75%                  3.000000           4.000000               4.000000   \n",
       "max                  5.000000           6.000000               5.000000   \n",
       "\n",
       "       NumberOfTrips     Passport  PitchSatisfactionScore       OwnCar  \\\n",
       "count    4748.000000  4888.000000             4888.000000  4888.000000   \n",
       "mean        3.236521     0.290917                3.078151     0.620295   \n",
       "std         1.849019     0.454232                1.365792     0.485363   \n",
       "min         1.000000     0.000000                1.000000     0.000000   \n",
       "25%         2.000000     0.000000                2.000000     0.000000   \n",
       "50%         3.000000     0.000000                3.000000     1.000000   \n",
       "75%         4.000000     1.000000                4.000000     1.000000   \n",
       "max        22.000000     1.000000                5.000000     1.000000   \n",
       "\n",
       "       NumberOfChildrenVisiting  MonthlyIncome  \n",
       "count               4822.000000    4655.000000  \n",
       "mean                   1.187267   23619.853491  \n",
       "std                    0.857861    5380.698361  \n",
       "min                    0.000000    1000.000000  \n",
       "25%                    1.000000   20346.000000  \n",
       "50%                    1.000000   22347.000000  \n",
       "75%                    2.000000   25571.000000  \n",
       "max                    3.000000   98678.000000  "
      ]
     },
     "execution_count": 7,
     "metadata": {},
     "output_type": "execute_result"
    }
   ],
   "source": [
    "tour_df.describe()"
   ]
  },
  {
   "cell_type": "markdown",
   "id": "dc90df26",
   "metadata": {},
   "source": [
    "# M2: Preprocessing"
   ]
  },
  {
   "cell_type": "markdown",
   "id": "14ee420b",
   "metadata": {},
   "source": [
    "### M2.1 Check categorical cols"
   ]
  },
  {
   "cell_type": "code",
   "execution_count": 8,
   "id": "b0ddcee6",
   "metadata": {},
   "outputs": [
    {
     "name": "stdout",
     "output_type": "stream",
     "text": [
      "Gender\n",
      "Male       2916\n",
      "Female     1817\n",
      "Fe Male     155\n",
      "Name: Gender, dtype: int64\n",
      "TypeofContact\n",
      "Self Enquiry       3444\n",
      "Company Invited    1419\n",
      "Name: TypeofContact, dtype: int64\n",
      "Occupation\n",
      "Salaried          2368\n",
      "Small Business    2084\n",
      "Large Business     434\n",
      "Free Lancer          2\n",
      "Name: Occupation, dtype: int64\n",
      "ProductPitched\n",
      "Basic           1842\n",
      "Deluxe          1732\n",
      "Standard         742\n",
      "Super Deluxe     342\n",
      "King             230\n",
      "Name: ProductPitched, dtype: int64\n",
      "MaritalStatus\n",
      "Married      2340\n",
      "Divorced      950\n",
      "Single        916\n",
      "Unmarried     682\n",
      "Name: MaritalStatus, dtype: int64\n",
      "Designation\n",
      "Executive         1842\n",
      "Manager           1732\n",
      "Senior Manager     742\n",
      "AVP                342\n",
      "VP                 230\n",
      "Name: Designation, dtype: int64\n"
     ]
    }
   ],
   "source": [
    "categories =['Gender','TypeofContact','Occupation','ProductPitched','MaritalStatus','Designation']\n",
    "for i in categories:\n",
    "    print(i)\n",
    "    print(tour_df[i].value_counts())"
   ]
  },
  {
   "cell_type": "markdown",
   "id": "9e301cd9",
   "metadata": {},
   "source": [
    "### In gender col Female and Fe Male are same values so replace them"
   ]
  },
  {
   "cell_type": "code",
   "execution_count": 9,
   "id": "1c1b3264",
   "metadata": {},
   "outputs": [],
   "source": [
    "tour_df['Gender'] = tour_df['Gender'].apply(lambda x: 'Female' if x == 'Fe Male' else x)"
   ]
  },
  {
   "cell_type": "code",
   "execution_count": 10,
   "id": "6f7dd0ef",
   "metadata": {},
   "outputs": [
    {
     "data": {
      "text/plain": [
       "Male      2916\n",
       "Female    1972\n",
       "Name: Gender, dtype: int64"
      ]
     },
     "execution_count": 10,
     "metadata": {},
     "output_type": "execute_result"
    }
   ],
   "source": [
    "tour_df.Gender.value_counts()"
   ]
  },
  {
   "cell_type": "markdown",
   "id": "39d7129d",
   "metadata": {},
   "source": [
    "### M2.2 Missing values"
   ]
  },
  {
   "cell_type": "code",
   "execution_count": 11,
   "id": "06ea4c96",
   "metadata": {},
   "outputs": [
    {
     "data": {
      "text/plain": [
       "DurationOfPitch             251\n",
       "MonthlyIncome               233\n",
       "Age                         226\n",
       "NumberOfTrips               140\n",
       "NumberOfChildrenVisiting     66\n",
       "NumberOfFollowups            45\n",
       "PreferredPropertyStar        26\n",
       "TypeofContact                25\n",
       "Designation                   0\n",
       "OwnCar                        0\n",
       "PitchSatisfactionScore        0\n",
       "Passport                      0\n",
       "CustomerID                    0\n",
       "MaritalStatus                 0\n",
       "ProdTaken                     0\n",
       "NumberOfPersonVisiting        0\n",
       "Gender                        0\n",
       "Occupation                    0\n",
       "CityTier                      0\n",
       "ProductPitched                0\n",
       "dtype: int64"
      ]
     },
     "execution_count": 11,
     "metadata": {},
     "output_type": "execute_result"
    }
   ],
   "source": [
    "tour_df.isna().sum().sort_values(ascending=False)"
   ]
  },
  {
   "cell_type": "markdown",
   "id": "df1c2f8f",
   "metadata": {},
   "source": [
    "<ul>\n",
    "<li>There are lot of missing values in the data set\n",
    "<li>Highest number of missing values are in DurationOfPitch(251),MonthlyIncome(233),Age(226),NumberOfTrips(140)"
   ]
  },
  {
   "cell_type": "markdown",
   "id": "98184afc",
   "metadata": {},
   "source": [
    "We will fill the missing values by different categories"
   ]
  },
  {
   "cell_type": "markdown",
   "id": "898c7566",
   "metadata": {},
   "source": [
    "### a.Categorical"
   ]
  },
  {
   "cell_type": "markdown",
   "id": "9dd95ba7",
   "metadata": {},
   "source": [
    "\n",
    "### Type of contact"
   ]
  },
  {
   "cell_type": "code",
   "execution_count": 12,
   "id": "da9357aa",
   "metadata": {},
   "outputs": [
    {
     "data": {
      "text/plain": [
       "Self Enquiry       3444\n",
       "Company Invited    1419\n",
       "Name: TypeofContact, dtype: int64"
      ]
     },
     "execution_count": 12,
     "metadata": {},
     "output_type": "execute_result"
    }
   ],
   "source": [
    "#type of contact\n",
    "tour_df['TypeofContact'].value_counts()"
   ]
  },
  {
   "cell_type": "code",
   "execution_count": 13,
   "id": "a3439502",
   "metadata": {},
   "outputs": [],
   "source": [
    "toc = tour_df['TypeofContact'].mode()\n",
    "tour_df['TypeofContact'] = tour_df['TypeofContact'].fillna(toc[0])"
   ]
  },
  {
   "cell_type": "markdown",
   "id": "bf3553c8",
   "metadata": {},
   "source": [
    "Since type of contact is categorical we filled the null values with mode"
   ]
  },
  {
   "cell_type": "markdown",
   "id": "6c031556",
   "metadata": {},
   "source": [
    "### b.Numerical\n",
    "### b.1) Discrete"
   ]
  },
  {
   "cell_type": "markdown",
   "id": "8d1e457f",
   "metadata": {},
   "source": [
    "### Number of trips"
   ]
  },
  {
   "cell_type": "markdown",
   "id": "aeb3a348",
   "metadata": {},
   "source": [
    "Since number of trips depends on maritalstatus we will group the data by marital status and then take the median to fill null values"
   ]
  },
  {
   "cell_type": "code",
   "execution_count": 14,
   "id": "a7710b3a",
   "metadata": {},
   "outputs": [
    {
     "name": "stdout",
     "output_type": "stream",
     "text": [
      "MaritalStatus\n",
      "Divorced     3.0\n",
      "Married      3.0\n",
      "Single       2.0\n",
      "Unmarried    3.0\n",
      "Name: NumberOfTrips, dtype: float64\n"
     ]
    }
   ],
   "source": [
    "print(tour_df.groupby('MaritalStatus')['NumberOfTrips'].median())"
   ]
  },
  {
   "cell_type": "code",
   "execution_count": 15,
   "id": "616084b5",
   "metadata": {},
   "outputs": [],
   "source": [
    "tour_df[\"NumberOfTrips\"] = tour_df.groupby([\"MaritalStatus\"])[\"NumberOfTrips\"].apply(\n",
    "    lambda x: x.fillna(x.median()))"
   ]
  },
  {
   "cell_type": "code",
   "execution_count": 16,
   "id": "a04bfb78",
   "metadata": {},
   "outputs": [
    {
     "data": {
      "text/plain": [
       "0"
      ]
     },
     "execution_count": 16,
     "metadata": {},
     "output_type": "execute_result"
    }
   ],
   "source": [
    "tour_df['NumberOfTrips'].isna().sum()"
   ]
  },
  {
   "cell_type": "markdown",
   "id": "8e7f697e",
   "metadata": {},
   "source": [
    "### NumberOfChildrenVisiting "
   ]
  },
  {
   "cell_type": "code",
   "execution_count": 17,
   "id": "7aa8dccb",
   "metadata": {},
   "outputs": [
    {
     "data": {
      "text/plain": [
       "1.0    2080\n",
       "2.0    1335\n",
       "0.0    1082\n",
       "3.0     325\n",
       "Name: NumberOfChildrenVisiting, dtype: int64"
      ]
     },
     "execution_count": 17,
     "metadata": {},
     "output_type": "execute_result"
    }
   ],
   "source": [
    "tour_df['NumberOfChildrenVisiting'].value_counts()"
   ]
  },
  {
   "cell_type": "markdown",
   "id": "3e48d91d",
   "metadata": {},
   "source": [
    "We fill number of children column by median"
   ]
  },
  {
   "cell_type": "code",
   "execution_count": 18,
   "id": "7482100f",
   "metadata": {},
   "outputs": [],
   "source": [
    "noc = tour_df['NumberOfChildrenVisiting'].median()\n",
    "tour_df['NumberOfChildrenVisiting'] = tour_df['NumberOfChildrenVisiting'].fillna(noc)"
   ]
  },
  {
   "cell_type": "code",
   "execution_count": 19,
   "id": "5dafa033",
   "metadata": {},
   "outputs": [
    {
     "data": {
      "text/plain": [
       "0"
      ]
     },
     "execution_count": 19,
     "metadata": {},
     "output_type": "execute_result"
    }
   ],
   "source": [
    "tour_df['NumberOfChildrenVisiting'].isna().sum()"
   ]
  },
  {
   "cell_type": "markdown",
   "id": "e90cf814",
   "metadata": {},
   "source": [
    "### NumberOfFollowups"
   ]
  },
  {
   "cell_type": "markdown",
   "id": "4c8c7f8f",
   "metadata": {},
   "source": [
    "Number of follow ups depends on Product pitched so we group the data by later and then fill null values by corresponding median"
   ]
  },
  {
   "cell_type": "code",
   "execution_count": 20,
   "id": "878e4087",
   "metadata": {},
   "outputs": [
    {
     "name": "stdout",
     "output_type": "stream",
     "text": [
      "ProductPitched\n",
      "Basic           4.0\n",
      "Deluxe          4.0\n",
      "King            4.0\n",
      "Standard        4.0\n",
      "Super Deluxe    4.0\n",
      "Name: NumberOfFollowups, dtype: float64\n"
     ]
    }
   ],
   "source": [
    "print(tour_df.groupby('ProductPitched')['NumberOfFollowups'].median())"
   ]
  },
  {
   "cell_type": "code",
   "execution_count": 21,
   "id": "21fc51eb",
   "metadata": {},
   "outputs": [],
   "source": [
    "nof=tour_df['NumberOfFollowups'].median()\n",
    "tour_df[\"NumberOfFollowups\"] = tour_df['NumberOfFollowups'].fillna(nof)"
   ]
  },
  {
   "cell_type": "code",
   "execution_count": 22,
   "id": "52a6b1ee",
   "metadata": {},
   "outputs": [
    {
     "data": {
      "text/plain": [
       "0"
      ]
     },
     "execution_count": 22,
     "metadata": {},
     "output_type": "execute_result"
    }
   ],
   "source": [
    "tour_df['NumberOfFollowups'].isna().sum()"
   ]
  },
  {
   "cell_type": "markdown",
   "id": "1b5d8cf8",
   "metadata": {},
   "source": [
    "### Preferred property star"
   ]
  },
  {
   "cell_type": "markdown",
   "id": "309d5b13",
   "metadata": {},
   "source": [
    "Preferredproperty star depends on Product pitched so we group the data by later and then fill null values by corresponding median"
   ]
  },
  {
   "cell_type": "code",
   "execution_count": 23,
   "id": "d6b4fd7d",
   "metadata": {},
   "outputs": [
    {
     "name": "stdout",
     "output_type": "stream",
     "text": [
      "ProductPitched\n",
      "Basic           3.0\n",
      "Deluxe          3.0\n",
      "King            3.0\n",
      "Standard        3.0\n",
      "Super Deluxe    3.0\n",
      "Name: PreferredPropertyStar, dtype: float64\n"
     ]
    }
   ],
   "source": [
    "print(tour_df.groupby([\"ProductPitched\"])[\"PreferredPropertyStar\"].median())"
   ]
  },
  {
   "cell_type": "code",
   "execution_count": 24,
   "id": "866b8b48",
   "metadata": {},
   "outputs": [],
   "source": [
    "tour_df['PreferredPropertyStar']=tour_df.groupby([\"ProductPitched\"])[\"PreferredPropertyStar\"].apply(\n",
    "    lambda x:x.fillna(x.median()))"
   ]
  },
  {
   "cell_type": "code",
   "execution_count": 25,
   "id": "e90dd94e",
   "metadata": {},
   "outputs": [
    {
     "data": {
      "text/plain": [
       "0"
      ]
     },
     "execution_count": 25,
     "metadata": {},
     "output_type": "execute_result"
    }
   ],
   "source": [
    "tour_df['PreferredPropertyStar'].isna().sum()"
   ]
  },
  {
   "cell_type": "markdown",
   "id": "48c0c328",
   "metadata": {},
   "source": [
    "### b.2)Continous value type"
   ]
  },
  {
   "cell_type": "markdown",
   "id": "fbcbc6d4",
   "metadata": {},
   "source": [
    "We will check the histograms for these columns to understand the skewness and then decide how to fill them"
   ]
  },
  {
   "cell_type": "code",
   "execution_count": 26,
   "id": "51662e01",
   "metadata": {},
   "outputs": [
    {
     "data": {
      "text/plain": [
       "<Figure size 864x576 with 0 Axes>"
      ]
     },
     "metadata": {},
     "output_type": "display_data"
    },
    {
     "data": {
      "image/png": "[encoded data removed]",
      "text/plain": [
       "<Figure size 432x288 with 4 Axes>"
      ]
     },
     "metadata": {
      "needs_background": "light"
     },
     "output_type": "display_data"
    }
   ],
   "source": [
    "plt.figure(figsize=(12,8))\n",
    "ax=tour_df[['Age','DurationOfPitch','MonthlyIncome']].hist();\n",
    "plt.show()"
   ]
  },
  {
   "cell_type": "code",
   "execution_count": 27,
   "id": "9852ced9",
   "metadata": {},
   "outputs": [
    {
     "data": {
      "text/plain": [
       "Age                0.382989\n",
       "DurationOfPitch    1.752037\n",
       "MonthlyIncome      1.949160\n",
       "dtype: float64"
      ]
     },
     "execution_count": 27,
     "metadata": {},
     "output_type": "execute_result"
    }
   ],
   "source": [
    "tour_df[['Age','DurationOfPitch','MonthlyIncome']].skew(axis=0)"
   ]
  },
  {
   "cell_type": "markdown",
   "id": "891f0805",
   "metadata": {},
   "source": [
    "All the three are positively skewed hence we take median values after necessary grouping"
   ]
  },
  {
   "cell_type": "markdown",
   "id": "519c8009",
   "metadata": {},
   "source": [
    "### Age"
   ]
  },
  {
   "cell_type": "code",
   "execution_count": 28,
   "id": "9535b84c",
   "metadata": {},
   "outputs": [
    {
     "data": {
      "text/plain": [
       "count    4662.000000\n",
       "mean       37.622265\n",
       "std         9.316387\n",
       "min        18.000000\n",
       "25%        31.000000\n",
       "50%        36.000000\n",
       "75%        44.000000\n",
       "max        61.000000\n",
       "Name: Age, dtype: float64"
      ]
     },
     "execution_count": 28,
     "metadata": {},
     "output_type": "execute_result"
    }
   ],
   "source": [
    "tour_df['Age'].describe()"
   ]
  },
  {
   "cell_type": "markdown",
   "id": "1a55529a",
   "metadata": {},
   "source": [
    " We will fill the age column by median age based on designation and gender"
   ]
  },
  {
   "cell_type": "code",
   "execution_count": 29,
   "id": "7e7b3c97",
   "metadata": {},
   "outputs": [],
   "source": [
    "\n",
    "tour_df.groupby([\"Designation\", \"Gender\"])[\"Age\"].median()\n",
    "tour_df['Age'] = tour_df.groupby([\"Designation\", \"Gender\"])[\"Age\"].apply(lambda x:x.fillna(x.median()))"
   ]
  },
  {
   "cell_type": "code",
   "execution_count": 30,
   "id": "84008d57",
   "metadata": {},
   "outputs": [
    {
     "data": {
      "text/plain": [
       "0"
      ]
     },
     "execution_count": 30,
     "metadata": {},
     "output_type": "execute_result"
    }
   ],
   "source": [
    "tour_df['Age'].isna().sum()"
   ]
  },
  {
   "cell_type": "markdown",
   "id": "3208b867",
   "metadata": {},
   "source": [
    "### Duration of pitch"
   ]
  },
  {
   "cell_type": "markdown",
   "id": "5d3d713a",
   "metadata": {},
   "source": [
    "We will fill duration of pitch based on Product pitched and number of follow ups"
   ]
  },
  {
   "cell_type": "code",
   "execution_count": 31,
   "id": "a3e8cfb1",
   "metadata": {},
   "outputs": [],
   "source": [
    "tour_df.groupby(['ProductPitched','NumberOfFollowups'])[\"DurationOfPitch\"].median()\n",
    "tour_df['DurationOfPitch'] = tour_df.groupby([\"ProductPitched\", \"NumberOfFollowups\"])[\"DurationOfPitch\"].apply(\n",
    "                                    lambda x:x.fillna(x.median()))"
   ]
  },
  {
   "cell_type": "code",
   "execution_count": 32,
   "id": "233938e2",
   "metadata": {},
   "outputs": [
    {
     "data": {
      "text/plain": [
       "0"
      ]
     },
     "execution_count": 32,
     "metadata": {},
     "output_type": "execute_result"
    }
   ],
   "source": [
    "tour_df['DurationOfPitch'].isna().sum()"
   ]
  },
  {
   "cell_type": "markdown",
   "id": "4d1ce5c3",
   "metadata": {},
   "source": [
    "### Monthly Income"
   ]
  },
  {
   "cell_type": "markdown",
   "id": "0ca1df32",
   "metadata": {},
   "source": [
    "We will fill monthly income based on occupation, designation and gender, since they are dependent"
   ]
  },
  {
   "cell_type": "code",
   "execution_count": 33,
   "id": "eb0427ba",
   "metadata": {},
   "outputs": [],
   "source": [
    "tour_df.groupby(['Occupation','Designation','Gender'])['MonthlyIncome'].median()\n",
    "tour_df[\"MonthlyIncome\"]=tour_df.groupby([\"Occupation\",'Designation','Gender'])[\"MonthlyIncome\"].apply(\n",
    "    lambda x: x.fillna(x.median())\n",
    ")"
   ]
  },
  {
   "cell_type": "code",
   "execution_count": 34,
   "id": "cde2668c",
   "metadata": {},
   "outputs": [
    {
     "data": {
      "text/plain": [
       "0"
      ]
     },
     "execution_count": 34,
     "metadata": {},
     "output_type": "execute_result"
    }
   ],
   "source": [
    "tour_df[\"MonthlyIncome\"].isna().sum()"
   ]
  },
  {
   "cell_type": "markdown",
   "id": "ac88ddf7",
   "metadata": {},
   "source": [
    "### Recheck missing values"
   ]
  },
  {
   "cell_type": "code",
   "execution_count": 35,
   "id": "8315bc72",
   "metadata": {},
   "outputs": [
    {
     "data": {
      "text/plain": [
       "CustomerID                  0\n",
       "ProdTaken                   0\n",
       "Age                         0\n",
       "TypeofContact               0\n",
       "CityTier                    0\n",
       "DurationOfPitch             0\n",
       "Occupation                  0\n",
       "Gender                      0\n",
       "NumberOfPersonVisiting      0\n",
       "NumberOfFollowups           0\n",
       "ProductPitched              0\n",
       "PreferredPropertyStar       0\n",
       "MaritalStatus               0\n",
       "NumberOfTrips               0\n",
       "Passport                    0\n",
       "PitchSatisfactionScore      0\n",
       "OwnCar                      0\n",
       "NumberOfChildrenVisiting    0\n",
       "Designation                 0\n",
       "MonthlyIncome               0\n",
       "dtype: int64"
      ]
     },
     "execution_count": 35,
     "metadata": {},
     "output_type": "execute_result"
    }
   ],
   "source": [
    "tour_df.isna().sum()"
   ]
  },
  {
   "cell_type": "markdown",
   "id": "8aa5bdd0",
   "metadata": {},
   "source": [
    "#### All null values are filled\n",
    "<ul>\n",
    "<li> We have looked on all columns with null values\n",
    "<li> Then we have filled them appropriately\n",
    "<li> Now there are no null values in the dataset   "
   ]
  },
  {
   "cell_type": "markdown",
   "id": "43419c2a",
   "metadata": {},
   "source": [
    "## M2.3 Outliers"
   ]
  },
  {
   "cell_type": "markdown",
   "id": "28916c43",
   "metadata": {},
   "source": [
    "### Check the percentage of outliers in each numerical column"
   ]
  },
  {
   "cell_type": "code",
   "execution_count": 36,
   "id": "9c06a83c",
   "metadata": {},
   "outputs": [],
   "source": [
    "Q1 = tour_df.quantile(0.25)             \n",
    "Q3 = tour_df.quantile(0.75)\n",
    "\n",
    "IQR = Q3 - Q1                          \n",
    "\n",
    "lower=Q1-1.5*IQR                        \n",
    "upper=Q3+1.5*IQR"
   ]
  },
  {
   "cell_type": "code",
   "execution_count": 37,
   "id": "97b8c265",
   "metadata": {},
   "outputs": [
    {
     "data": {
      "text/plain": [
       "CustomerID                   0.000000\n",
       "ProdTaken                   18.821604\n",
       "Age                          0.000000\n",
       "CityTier                     0.000000\n",
       "DurationOfPitch              2.291326\n",
       "NumberOfPersonVisiting       0.061375\n",
       "NumberOfFollowups            6.382979\n",
       "PreferredPropertyStar        0.000000\n",
       "NumberOfTrips                2.229951\n",
       "Passport                     0.000000\n",
       "PitchSatisfactionScore       0.000000\n",
       "OwnCar                       0.000000\n",
       "NumberOfChildrenVisiting     0.000000\n",
       "MonthlyIncome                7.528642\n",
       "dtype: float64"
      ]
     },
     "execution_count": 37,
     "metadata": {},
     "output_type": "execute_result"
    }
   ],
   "source": [
    "((tour_df.select_dtypes(include=['float64','int64'])<lower) | \n",
    " (tour_df.select_dtypes(include=['float64','int64'])>upper)).sum()/len(tour_df)*100"
   ]
  },
  {
   "cell_type": "markdown",
   "id": "42e3d5fd",
   "metadata": {},
   "source": [
    "<ul>\n",
    "<li>The columns 'DurationOfPitch','MonthlyIncome','NumberOfFollowups','NumberOfTrips' have high percentage of outliers.\n",
    "<li>Select the columns with high percentage of outliers and plot them.\n",
    " <li>   Here we do not consider ProdTaken column because it is our target  "
   ]
  },
  {
   "cell_type": "code",
   "execution_count": 38,
   "id": "1cba9fb0",
   "metadata": {},
   "outputs": [],
   "source": [
    "outlier_col= ['DurationOfPitch','MonthlyIncome','NumberOfFollowups',\n",
    "                'NumberOfTrips']"
   ]
  },
  {
   "cell_type": "code",
   "execution_count": 39,
   "id": "d85a397d",
   "metadata": {},
   "outputs": [
    {
     "data": {
      "image/png": "[encoded data removed]",
      "text/plain": [
       "<Figure size 1440x2160 with 4 Axes>"
      ]
     },
     "metadata": {
      "needs_background": "light"
     },
     "output_type": "display_data"
    }
   ],
   "source": [
    "plt.figure(figsize=(20, 30))\n",
    "\n",
    "for i, variable in enumerate(outlier_col):\n",
    "    plt.subplot(5, 4, i + 1)\n",
    "    plt.boxplot(tour_df[variable], whis=1.5)\n",
    "    plt.tight_layout()\n",
    "    plt.title(variable)\n",
    "\n",
    "plt.show()"
   ]
  },
  {
   "cell_type": "markdown",
   "id": "6eef60ee",
   "metadata": {},
   "source": [
    "#### Outlier Treatment\n",
    "<ul>\n",
    "<li>While checking each columns we understand that these outliers are completely possible to occur    \n",
    "<li> Hence we are neither removing or replacing the outliers\n",
    "<li> Also outliers doesnot affect ml models such as DecisionTree    "
   ]
  },
  {
   "cell_type": "markdown",
   "id": "462840f4",
   "metadata": {},
   "source": [
    "## M2.4 Encoding"
   ]
  },
  {
   "cell_type": "markdown",
   "id": "f38192f2",
   "metadata": {},
   "source": [
    "We will first split the data into features(X) and target(y) as encoding shouldn't affect target column"
   ]
  },
  {
   "cell_type": "code",
   "execution_count": 40,
   "id": "8514cc25",
   "metadata": {},
   "outputs": [],
   "source": [
    "\n",
    "X = tour_df.drop(['ProdTaken','CustomerID'],axis=1)\n",
    "y=tour_df['ProdTaken']\n"
   ]
  },
  {
   "cell_type": "markdown",
   "id": "f988aa16",
   "metadata": {},
   "source": [
    "#### Encoding method\n",
    "<ul>\n",
    "   <li>Since there are many categorical columns we will do <b>One-Hot Encoding</b>\n",
    "   <li>Other columns like City tier and preferred property star are ordinal data.Hence we do not do label encoding here    "
   ]
  },
  {
   "cell_type": "code",
   "execution_count": 41,
   "id": "659c2290",
   "metadata": {},
   "outputs": [],
   "source": [
    "#onehot encoding whole X data\n",
    "X = pd.get_dummies(X)"
   ]
  },
  {
   "cell_type": "code",
   "execution_count": 42,
   "id": "b5f5ceda",
   "metadata": {},
   "outputs": [
    {
     "data": {
      "text/plain": [
       "(4888, 34)"
      ]
     },
     "execution_count": 42,
     "metadata": {},
     "output_type": "execute_result"
    }
   ],
   "source": [
    "X.shape"
   ]
  },
  {
   "cell_type": "code",
   "execution_count": 43,
   "id": "36385e2e",
   "metadata": {},
   "outputs": [
    {
     "data": {
      "text/html": [
       "<div>\n",
       "<style scoped>\n",
       "    .dataframe tbody tr th:only-of-type {\n",
       "        vertical-align: middle;\n",
       "    }\n",
       "\n",
       "    .dataframe tbody tr th {\n",
       "        vertical-align: top;\n",
       "    }\n",
       "\n",
       "    .dataframe thead th {\n",
       "        text-align: right;\n",
       "    }\n",
       "</style>\n",
       "<table border=\"1\" class=\"dataframe\">\n",
       "  <thead>\n",
       "    <tr style=\"text-align: right;\">\n",
       "      <th></th>\n",
       "      <th>Age</th>\n",
       "      <th>CityTier</th>\n",
       "      <th>DurationOfPitch</th>\n",
       "      <th>NumberOfPersonVisiting</th>\n",
       "      <th>NumberOfFollowups</th>\n",
       "      <th>PreferredPropertyStar</th>\n",
       "      <th>NumberOfTrips</th>\n",
       "      <th>Passport</th>\n",
       "      <th>PitchSatisfactionScore</th>\n",
       "      <th>OwnCar</th>\n",
       "      <th>...</th>\n",
       "      <th>ProductPitched_Super Deluxe</th>\n",
       "      <th>MaritalStatus_Divorced</th>\n",
       "      <th>MaritalStatus_Married</th>\n",
       "      <th>MaritalStatus_Single</th>\n",
       "      <th>MaritalStatus_Unmarried</th>\n",
       "      <th>Designation_AVP</th>\n",
       "      <th>Designation_Executive</th>\n",
       "      <th>Designation_Manager</th>\n",
       "      <th>Designation_Senior Manager</th>\n",
       "      <th>Designation_VP</th>\n",
       "    </tr>\n",
       "  </thead>\n",
       "  <tbody>\n",
       "    <tr>\n",
       "      <th>0</th>\n",
       "      <td>41.0</td>\n",
       "      <td>3</td>\n",
       "      <td>6.0</td>\n",
       "      <td>3</td>\n",
       "      <td>3.0</td>\n",
       "      <td>3.0</td>\n",
       "      <td>1.0</td>\n",
       "      <td>1</td>\n",
       "      <td>2</td>\n",
       "      <td>1</td>\n",
       "      <td>...</td>\n",
       "      <td>0</td>\n",
       "      <td>0</td>\n",
       "      <td>0</td>\n",
       "      <td>1</td>\n",
       "      <td>0</td>\n",
       "      <td>0</td>\n",
       "      <td>0</td>\n",
       "      <td>1</td>\n",
       "      <td>0</td>\n",
       "      <td>0</td>\n",
       "    </tr>\n",
       "    <tr>\n",
       "      <th>1</th>\n",
       "      <td>49.0</td>\n",
       "      <td>1</td>\n",
       "      <td>14.0</td>\n",
       "      <td>3</td>\n",
       "      <td>4.0</td>\n",
       "      <td>4.0</td>\n",
       "      <td>2.0</td>\n",
       "      <td>0</td>\n",
       "      <td>3</td>\n",
       "      <td>1</td>\n",
       "      <td>...</td>\n",
       "      <td>0</td>\n",
       "      <td>1</td>\n",
       "      <td>0</td>\n",
       "      <td>0</td>\n",
       "      <td>0</td>\n",
       "      <td>0</td>\n",
       "      <td>0</td>\n",
       "      <td>1</td>\n",
       "      <td>0</td>\n",
       "      <td>0</td>\n",
       "    </tr>\n",
       "    <tr>\n",
       "      <th>2</th>\n",
       "      <td>37.0</td>\n",
       "      <td>1</td>\n",
       "      <td>8.0</td>\n",
       "      <td>3</td>\n",
       "      <td>4.0</td>\n",
       "      <td>3.0</td>\n",
       "      <td>7.0</td>\n",
       "      <td>1</td>\n",
       "      <td>3</td>\n",
       "      <td>0</td>\n",
       "      <td>...</td>\n",
       "      <td>0</td>\n",
       "      <td>0</td>\n",
       "      <td>0</td>\n",
       "      <td>1</td>\n",
       "      <td>0</td>\n",
       "      <td>0</td>\n",
       "      <td>1</td>\n",
       "      <td>0</td>\n",
       "      <td>0</td>\n",
       "      <td>0</td>\n",
       "    </tr>\n",
       "    <tr>\n",
       "      <th>3</th>\n",
       "      <td>33.0</td>\n",
       "      <td>1</td>\n",
       "      <td>9.0</td>\n",
       "      <td>2</td>\n",
       "      <td>3.0</td>\n",
       "      <td>3.0</td>\n",
       "      <td>2.0</td>\n",
       "      <td>1</td>\n",
       "      <td>5</td>\n",
       "      <td>1</td>\n",
       "      <td>...</td>\n",
       "      <td>0</td>\n",
       "      <td>1</td>\n",
       "      <td>0</td>\n",
       "      <td>0</td>\n",
       "      <td>0</td>\n",
       "      <td>0</td>\n",
       "      <td>1</td>\n",
       "      <td>0</td>\n",
       "      <td>0</td>\n",
       "      <td>0</td>\n",
       "    </tr>\n",
       "    <tr>\n",
       "      <th>4</th>\n",
       "      <td>32.0</td>\n",
       "      <td>1</td>\n",
       "      <td>8.0</td>\n",
       "      <td>2</td>\n",
       "      <td>3.0</td>\n",
       "      <td>4.0</td>\n",
       "      <td>1.0</td>\n",
       "      <td>0</td>\n",
       "      <td>5</td>\n",
       "      <td>1</td>\n",
       "      <td>...</td>\n",
       "      <td>0</td>\n",
       "      <td>1</td>\n",
       "      <td>0</td>\n",
       "      <td>0</td>\n",
       "      <td>0</td>\n",
       "      <td>0</td>\n",
       "      <td>1</td>\n",
       "      <td>0</td>\n",
       "      <td>0</td>\n",
       "      <td>0</td>\n",
       "    </tr>\n",
       "  </tbody>\n",
       "</table>\n",
       "<p>5 rows × 34 columns</p>\n",
       "</div>"
      ],
      "text/plain": [
       "    Age  CityTier  DurationOfPitch  NumberOfPersonVisiting  NumberOfFollowups  \\\n",
       "0  41.0         3              6.0                       3                3.0   \n",
       "1  49.0         1             14.0                       3                4.0   \n",
       "2  37.0         1              8.0                       3                4.0   \n",
       "3  33.0         1              9.0                       2                3.0   \n",
       "4  32.0         1              8.0                       2                3.0   \n",
       "\n",
       "   PreferredPropertyStar  NumberOfTrips  Passport  PitchSatisfactionScore  \\\n",
       "0                    3.0            1.0         1                       2   \n",
       "1                    4.0            2.0         0                       3   \n",
       "2                    3.0            7.0         1                       3   \n",
       "3                    3.0            2.0         1                       5   \n",
       "4                    4.0            1.0         0                       5   \n",
       "\n",
       "   OwnCar  ...  ProductPitched_Super Deluxe  MaritalStatus_Divorced  \\\n",
       "0       1  ...                            0                       0   \n",
       "1       1  ...                            0                       1   \n",
       "2       0  ...                            0                       0   \n",
       "3       1  ...                            0                       1   \n",
       "4       1  ...                            0                       1   \n",
       "\n",
       "   MaritalStatus_Married  MaritalStatus_Single  MaritalStatus_Unmarried  \\\n",
       "0                      0                     1                        0   \n",
       "1                      0                     0                        0   \n",
       "2                      0                     1                        0   \n",
       "3                      0                     0                        0   \n",
       "4                      0                     0                        0   \n",
       "\n",
       "   Designation_AVP  Designation_Executive  Designation_Manager  \\\n",
       "0                0                      0                    1   \n",
       "1                0                      0                    1   \n",
       "2                0                      1                    0   \n",
       "3                0                      1                    0   \n",
       "4                0                      1                    0   \n",
       "\n",
       "   Designation_Senior Manager  Designation_VP  \n",
       "0                           0               0  \n",
       "1                           0               0  \n",
       "2                           0               0  \n",
       "3                           0               0  \n",
       "4                           0               0  \n",
       "\n",
       "[5 rows x 34 columns]"
      ]
     },
     "execution_count": 43,
     "metadata": {},
     "output_type": "execute_result"
    }
   ],
   "source": [
    "X.head()"
   ]
  },
  {
   "cell_type": "markdown",
   "id": "d45b882f",
   "metadata": {},
   "source": [
    "<ul>\n",
    "    <li> After encoding we are left with 34 columns (previously we had 20)\n",
    "        "
   ]
  },
  {
   "cell_type": "markdown",
   "id": "08319e90",
   "metadata": {},
   "source": [
    "### Preprocessing Inference\n",
    "<ol>\n",
    "<li><b>Missing values:</b>We have treated the missing values by filling them appropriately\n",
    "<li><b>Outliers :</b>We have viwed the outliers and decided not to remove or replace them\n",
    "<li><b>Encoding: </b> We have done One-hot encoding after dividing the data into features and target   "
   ]
  },
  {
   "cell_type": "markdown",
   "id": "e463b4c0",
   "metadata": {},
   "source": [
    "# M3: EDA"
   ]
  },
  {
   "cell_type": "markdown",
   "id": "3016a249",
   "metadata": {},
   "source": [
    "## M3.1 Univariate Analysis"
   ]
  },
  {
   "cell_type": "markdown",
   "id": "4c32810f",
   "metadata": {},
   "source": [
    "### 1. Numerical Data"
   ]
  },
  {
   "cell_type": "code",
   "execution_count": 44,
   "id": "2baed115",
   "metadata": {},
   "outputs": [
    {
     "data": {
      "image/png": "[encoded data removed]",
      "text/plain": [
       "<Figure size 1440x1800 with 8 Axes>"
      ]
     },
     "metadata": {
      "needs_background": "light"
     },
     "output_type": "display_data"
    }
   ],
   "source": [
    "num_col=['Age','NumberOfPersonVisiting','NumberOfFollowups',\n",
    "                   'NumberOfTrips','PitchSatisfactionScore','PreferredPropertyStar','NumberOfChildrenVisiting','MonthlyIncome']\n",
    "plt.figure(figsize=(20,25))\n",
    "for i in range(len(num_col)):\n",
    " plt.subplot(8,3,i+1)\n",
    " sns.histplot(tour_df[num_col[i]],kde=False)\n",
    " plt.tight_layout()\n",
    " plt.title(num_col[i],fontsize=25)\n",
    "plt.show()"
   ]
  },
  {
   "cell_type": "code",
   "execution_count": 45,
   "id": "e6308b56",
   "metadata": {},
   "outputs": [
    {
     "data": {
      "image/png": "[encoded data removed]",
      "text/plain": [
       "<Figure size 1440x1800 with 8 Axes>"
      ]
     },
     "metadata": {
      "needs_background": "light"
     },
     "output_type": "display_data"
    }
   ],
   "source": [
    "plt.figure(figsize=(20,25))\n",
    "for i in range(len(num_col)):\n",
    " plt.subplot(8,3,i+1)\n",
    " sns.boxplot(tour_df[num_col[i]])\n",
    " plt.tight_layout()\n",
    " plt.title(num_col[i],fontsize=25)\n",
    "plt.show()"
   ]
  },
  {
   "cell_type": "markdown",
   "id": "610cd4d8",
   "metadata": {},
   "source": [
    "### Observation(Numerical):\n",
    "<ul>\n",
    "<li>Age is normally distributed and have no outliers\n",
    "<li>Usually there are 3 number of persons visiting with an outlier as 5\n",
    "<li> The most occured number of follow ups are 4 with outliers as 1 and 6\n",
    "<li> Most number of trips are between 1 and 5 with a few outliers around 20\n",
    "<li> Most given pitch satisfication score is 3. This have no outliers\n",
    "<li> Most preferred property star is 3 with no outlier\n",
    "<li> Most frequent number of children visiting per trip is 1 with no outlier\n",
    "<li><b> Monthly income is right skewed with lot of outliers.</b>"
   ]
  },
  {
   "cell_type": "markdown",
   "id": "891857f5",
   "metadata": {},
   "source": [
    "### 2.Categorical"
   ]
  },
  {
   "cell_type": "code",
   "execution_count": 46,
   "id": "4238f529",
   "metadata": {},
   "outputs": [
    {
     "data": {
      "image/png": "[encoded data removed]",
      "text/plain": [
       "<Figure size 864x1800 with 8 Axes>"
      ]
     },
     "metadata": {
      "needs_background": "light"
     },
     "output_type": "display_data"
    }
   ],
   "source": [
    "plt.figure(figsize=(12,25))\n",
    "\n",
    "sns.set_theme(style=\"white\") \n",
    "cols=['TypeofContact', 'CityTier', 'Occupation', 'Gender', 'MaritalStatus', \n",
    "        'Passport',\n",
    "        'OwnCar',  \n",
    "        'Designation',]\n",
    "for i, variable in enumerate(cols):\n",
    "                     plt.subplot(9,2,i+1)\n",
    "                     order = tour_df[variable].value_counts(ascending=False).index   \n",
    "                     \n",
    "                     sns.set_palette('Set1')\n",
    "                     ax=sns.countplot(x=tour_df[variable], data=tour_df )\n",
    "                     plt.tight_layout()   \n",
    "                        "
   ]
  },
  {
   "cell_type": "markdown",
   "id": "fb926f10",
   "metadata": {},
   "source": [
    "### Observation (Categorical):\n",
    "<ul>\n",
    "\n",
    "<li> Most people are from city tier 1\n",
    "<li> A large portion are either salaried or have small business\n",
    "<li> There are around 48% female and the rest male\n",
    "<li> Most people travelling are married.\n",
    "<li> A large portion owns car\n",
    "<li> A large portion of working people are either manager or executive"
   ]
  },
  {
   "cell_type": "markdown",
   "id": "3579b10b",
   "metadata": {},
   "source": [
    "## M3.2 Bivariate Analysis"
   ]
  },
  {
   "cell_type": "markdown",
   "id": "d7538bf2",
   "metadata": {},
   "source": [
    "### Heatmap"
   ]
  },
  {
   "cell_type": "code",
   "execution_count": 47,
   "id": "f1430a82",
   "metadata": {},
   "outputs": [
    {
     "data": {
      "image/png": "[encoded data removed]",
      "text/plain": [
       "<Figure size 936x576 with 2 Axes>"
      ]
     },
     "metadata": {},
     "output_type": "display_data"
    }
   ],
   "source": [
    "sns.set_palette(sns.color_palette(\"Set1\", 8))\n",
    "plt.figure(figsize=(13,8))\n",
    "data = tour_df.drop(['CustomerID'],axis=1)\n",
    "sns.heatmap(data.corr(),annot=True)\n",
    "plt.show()"
   ]
  },
  {
   "cell_type": "markdown",
   "id": "0fc842a0",
   "metadata": {},
   "source": [
    "#### Observation:\n",
    "<ul>\n",
    "<li>Monthlyincome and Age has weak correlation\n",
    "<li>Number of children visiting and number of person vsiting has correlation as expected.\n",
    "<li>Numberof follow up and number of person vsiting has very weak correlation."
   ]
  },
  {
   "cell_type": "markdown",
   "id": "2ee1d033",
   "metadata": {},
   "source": [
    "### Numerical columns vs Product Taken"
   ]
  },
  {
   "cell_type": "code",
   "execution_count": 48,
   "id": "588f3434",
   "metadata": {},
   "outputs": [
    {
     "data": {
      "image/png": "[encoded data removed]",
      "text/plain": [
       "<Figure size 1080x1440 with 8 Axes>"
      ]
     },
     "metadata": {},
     "output_type": "display_data"
    }
   ],
   "source": [
    "num_col=['Age','NumberOfPersonVisiting','NumberOfFollowups','NumberOfTrips',\n",
    "         'PitchSatisfactionScore','PreferredPropertyStar','NumberOfChildrenVisiting','MonthlyIncome']\n",
    "\n",
    "plt.figure(figsize=(15,20))\n",
    "for i, variable in enumerate(num_col):\n",
    "                     plt.subplot(8,3,i+1)\n",
    "                     sns.boxplot(tour_df[\"ProdTaken\"],tour_df[variable],palette=\"Set1\")\n",
    "                     plt.tight_layout()\n",
    "                     plt.title(variable)\n",
    "plt.show()"
   ]
  },
  {
   "cell_type": "markdown",
   "id": "b2aa1e71",
   "metadata": {},
   "source": [
    "### Observation:\n",
    "<ul>\n",
    "<li>Customers who purchased the product are mostly in age range of 28 -35\n",
    "<li>Number of trips has some outliers like 17 -20.\n",
    "<li>Monthly income has extreme outliers.Customers who purchased product are in earning on average 18000-23000 monthly"
   ]
  },
  {
   "cell_type": "markdown",
   "id": "0ab2d5c5",
   "metadata": {},
   "source": [
    "# M4: Modelling"
   ]
  },
  {
   "cell_type": "markdown",
   "id": "75414b89",
   "metadata": {},
   "source": [
    "### Import all necessary libraries"
   ]
  },
  {
   "cell_type": "code",
   "execution_count": 49,
   "id": "db9271a9",
   "metadata": {},
   "outputs": [],
   "source": [
    "#         train_test_split\n",
    "from sklearn.model_selection import train_test_split\n",
    "#         different classification models\n",
    "from sklearn.linear_model import LogisticRegression\n",
    "from sklearn.neighbors import KNeighborsClassifier\n",
    "from sklearn.svm import SVC\n",
    "from sklearn.tree import DecisionTreeClassifier\n",
    "#         metrics for comparison\n",
    "from sklearn.metrics import confusion_matrix, accuracy_score, precision_score, recall_score, f1_score,plot_confusion_matrix,classification_report"
   ]
  },
  {
   "cell_type": "markdown",
   "id": "337837b2",
   "metadata": {},
   "source": [
    "#### Train test splitting of data by taking 20 % of data as test set"
   ]
  },
  {
   "cell_type": "code",
   "execution_count": 50,
   "id": "c38cf66c",
   "metadata": {},
   "outputs": [],
   "source": [
    "# splitting\n",
    "X_train, X_test, y_train, y_test = train_test_split(X, y, random_state=42, test_size=0.20)"
   ]
  },
  {
   "cell_type": "code",
   "execution_count": 51,
   "id": "395ced5e",
   "metadata": {},
   "outputs": [
    {
     "name": "stdout",
     "output_type": "stream",
     "text": [
      "X_train shape: (3910, 34)\n",
      "X_test shape :  (978, 34)\n",
      "y_train shape:  (3910,)\n",
      "y_test shape : (978,)\n"
     ]
    }
   ],
   "source": [
    "print('X_train shape:',X_train.shape)\n",
    "print('X_test shape : ',X_test.shape)\n",
    "print('y_train shape: ',y_train.shape)\n",
    "print('y_test shape :',y_test.shape)"
   ]
  },
  {
   "cell_type": "markdown",
   "id": "d22dd8ef",
   "metadata": {},
   "source": [
    "### This is a classification problem hence now we will apply each of the following classification models to the data set and find which one is the best ."
   ]
  },
  {
   "cell_type": "markdown",
   "id": "859f07e9",
   "metadata": {},
   "source": [
    "### Logisitc"
   ]
  },
  {
   "cell_type": "code",
   "execution_count": 52,
   "id": "4b26122a",
   "metadata": {},
   "outputs": [],
   "source": [
    "log = LogisticRegression()\n",
    "log.fit(X_train, y_train)\n",
    "y_pred_lr = log.predict(X_test)"
   ]
  },
  {
   "cell_type": "code",
   "execution_count": 53,
   "id": "7c5e3952",
   "metadata": {},
   "outputs": [
    {
     "name": "stdout",
     "output_type": "stream",
     "text": [
      "              precision    recall  f1-score   support\n",
      "\n",
      "           0       0.85      0.97      0.90       787\n",
      "           1       0.68      0.28      0.40       191\n",
      "\n",
      "    accuracy                           0.83       978\n",
      "   macro avg       0.77      0.63      0.65       978\n",
      "weighted avg       0.82      0.83      0.81       978\n",
      "\n"
     ]
    }
   ],
   "source": [
    "print(classification_report(y_test,y_pred_lr))\n",
    "acc_lr=accuracy_score(y_test,y_pred_lr)\n",
    "f1_lr=f1_score(y_test,y_pred_lr)"
   ]
  },
  {
   "cell_type": "code",
   "execution_count": 54,
   "id": "038b4a44",
   "metadata": {},
   "outputs": [
    {
     "data": {
      "text/plain": [
       "<sklearn.metrics._plot.confusion_matrix.ConfusionMatrixDisplay at 0x15a8bdc0e50>"
      ]
     },
     "execution_count": 54,
     "metadata": {},
     "output_type": "execute_result"
    },
    {
     "data": {
      "image/png": "[encoded data removed]",
      "text/plain": [
       "<Figure size 432x288 with 2 Axes>"
      ]
     },
     "metadata": {},
     "output_type": "display_data"
    }
   ],
   "source": [
    "plot_confusion_matrix(log,X_test,y_test)"
   ]
  },
  {
   "cell_type": "markdown",
   "id": "a1ce3e63",
   "metadata": {},
   "source": [
    "### KNN classifier\n"
   ]
  },
  {
   "cell_type": "code",
   "execution_count": 55,
   "id": "89b7f700",
   "metadata": {},
   "outputs": [],
   "source": [
    "acc_values = []\n",
    "neighbors = np.arange(3,15)\n",
    "for k in neighbors:\n",
    "    classifier = KNeighborsClassifier(n_neighbors = k, metric = 'minkowski')\n",
    "    classifier.fit(X_train, y_train)\n",
    "    y_pred_k = classifier.predict(X_test)\n",
    "    acc = accuracy_score(y_test, y_pred_k)\n",
    "    acc_values.append(acc)"
   ]
  },
  {
   "cell_type": "code",
   "execution_count": 56,
   "id": "7f5abad4",
   "metadata": {},
   "outputs": [
    {
     "data": {
      "text/plain": [
       "Text(0, 0.5, 'accuracy')"
      ]
     },
     "execution_count": 56,
     "metadata": {},
     "output_type": "execute_result"
    },
    {
     "data": {
      "image/png": "[encoded data removed]",
      "text/plain": [
       "<Figure size 432x288 with 1 Axes>"
      ]
     },
     "metadata": {},
     "output_type": "display_data"
    }
   ],
   "source": [
    "plt.plot(neighbors, acc_values, 'o-')\n",
    "plt.xlabel('k value')\n",
    "plt.ylabel('accuracy')"
   ]
  },
  {
   "cell_type": "code",
   "execution_count": 57,
   "id": "9b8155dc",
   "metadata": {},
   "outputs": [],
   "source": [
    "knn = KNeighborsClassifier(n_neighbors=12, metric='minkowski')\n",
    "knn.fit(X_train, y_train)\n",
    "y_pred_k = knn.predict(X_test)"
   ]
  },
  {
   "cell_type": "code",
   "execution_count": 58,
   "id": "805e3a23",
   "metadata": {},
   "outputs": [
    {
     "name": "stdout",
     "output_type": "stream",
     "text": [
      "              precision    recall  f1-score   support\n",
      "\n",
      "           0       0.81      0.98      0.89       787\n",
      "           1       0.36      0.04      0.08       191\n",
      "\n",
      "    accuracy                           0.80       978\n",
      "   macro avg       0.59      0.51      0.48       978\n",
      "weighted avg       0.72      0.80      0.73       978\n",
      "\n"
     ]
    }
   ],
   "source": [
    "print(classification_report(y_test,y_pred_k))\n",
    "acc_k=accuracy_score(y_test,y_pred_k)\n",
    "f1_k=f1_score(y_test,y_pred_k)"
   ]
  },
  {
   "cell_type": "code",
   "execution_count": 59,
   "id": "48fbfcc6",
   "metadata": {},
   "outputs": [
    {
     "data": {
      "text/plain": [
       "<sklearn.metrics._plot.confusion_matrix.ConfusionMatrixDisplay at 0x15a8bdc01f0>"
      ]
     },
     "execution_count": 59,
     "metadata": {},
     "output_type": "execute_result"
    },
    {
     "data": {
      "image/png": "[encoded data removed]",
      "text/plain": [
       "<Figure size 432x288 with 2 Axes>"
      ]
     },
     "metadata": {},
     "output_type": "display_data"
    }
   ],
   "source": [
    "plot_confusion_matrix(knn,X_test,y_test)"
   ]
  },
  {
   "cell_type": "markdown",
   "id": "ef8cfe96",
   "metadata": {},
   "source": [
    "### Decision tree"
   ]
  },
  {
   "cell_type": "code",
   "execution_count": 60,
   "id": "6654fe45",
   "metadata": {},
   "outputs": [],
   "source": [
    "\n",
    "dt = DecisionTreeClassifier()\n",
    "dt.fit(X_train,y_train)\n",
    "y_pred_dt = dt.predict(X_test)"
   ]
  },
  {
   "cell_type": "code",
   "execution_count": 61,
   "id": "1603c268",
   "metadata": {},
   "outputs": [
    {
     "name": "stdout",
     "output_type": "stream",
     "text": [
      "              precision    recall  f1-score   support\n",
      "\n",
      "           0       0.95      0.96      0.95       787\n",
      "           1       0.81      0.78      0.79       191\n",
      "\n",
      "    accuracy                           0.92       978\n",
      "   macro avg       0.88      0.87      0.87       978\n",
      "weighted avg       0.92      0.92      0.92       978\n",
      "\n"
     ]
    }
   ],
   "source": [
    "print(classification_report(y_test,y_pred_dt))\n",
    "acc_dt=accuracy_score(y_test,y_pred_dt)\n",
    "f1_dt=f1_score(y_test,y_pred_dt)"
   ]
  },
  {
   "cell_type": "code",
   "execution_count": 62,
   "id": "daf72d1f",
   "metadata": {},
   "outputs": [
    {
     "data": {
      "text/plain": [
       "<sklearn.metrics._plot.confusion_matrix.ConfusionMatrixDisplay at 0x15a8c894f10>"
      ]
     },
     "execution_count": 62,
     "metadata": {},
     "output_type": "execute_result"
    },
    {
     "data": {
      "image/png": "[encoded data removed]",
      "text/plain": [
       "<Figure size 432x288 with 2 Axes>"
      ]
     },
     "metadata": {},
     "output_type": "display_data"
    }
   ],
   "source": [
    "plot_confusion_matrix(dt,X_test,y_test)"
   ]
  },
  {
   "cell_type": "markdown",
   "id": "b1a74c46",
   "metadata": {},
   "source": [
    "### Model performance evaluation:\n",
    "Comparing f1_score and accuracy of these three models and deciding the best fit"
   ]
  },
  {
   "cell_type": "code",
   "execution_count": 63,
   "id": "7c7fa18b",
   "metadata": {},
   "outputs": [
    {
     "data": {
      "text/html": [
       "<div>\n",
       "<style scoped>\n",
       "    .dataframe tbody tr th:only-of-type {\n",
       "        vertical-align: middle;\n",
       "    }\n",
       "\n",
       "    .dataframe tbody tr th {\n",
       "        vertical-align: top;\n",
       "    }\n",
       "\n",
       "    .dataframe thead th {\n",
       "        text-align: right;\n",
       "    }\n",
       "</style>\n",
       "<table border=\"1\" class=\"dataframe\">\n",
       "  <thead>\n",
       "    <tr style=\"text-align: right;\">\n",
       "      <th></th>\n",
       "      <th>Accuracy</th>\n",
       "      <th>F1_score</th>\n",
       "    </tr>\n",
       "  </thead>\n",
       "  <tbody>\n",
       "    <tr>\n",
       "      <th>Logistic</th>\n",
       "      <td>0.834356</td>\n",
       "      <td>0.400000</td>\n",
       "    </tr>\n",
       "    <tr>\n",
       "      <th>KNN</th>\n",
       "      <td>0.798569</td>\n",
       "      <td>0.075117</td>\n",
       "    </tr>\n",
       "    <tr>\n",
       "      <th>DecisionTree</th>\n",
       "      <td>0.921268</td>\n",
       "      <td>0.794667</td>\n",
       "    </tr>\n",
       "  </tbody>\n",
       "</table>\n",
       "</div>"
      ],
      "text/plain": [
       "              Accuracy  F1_score\n",
       "Logistic      0.834356  0.400000\n",
       "KNN           0.798569  0.075117\n",
       "DecisionTree  0.921268  0.794667"
      ]
     },
     "execution_count": 63,
     "metadata": {},
     "output_type": "execute_result"
    }
   ],
   "source": [
    "comp = pd.DataFrame({'Logistic':[acc_lr,f1_lr],\n",
    "                    'KNN':[acc_k,f1_k],\n",
    "                    'DecisionTree':[acc_dt,f1_dt]},index=['Accuracy','F1_score'])\n",
    "comp.transpose()"
   ]
  },
  {
   "cell_type": "markdown",
   "id": "4f8a6d3e",
   "metadata": {},
   "source": [
    "### Modelling Inference-1\n",
    "<ul>\n",
    "<li>Among these three, <b>Decision Tree performs best</b> with 91% accuracy and 0.78 f1_score\n",
    "<li>The worst performance is by KNN having only 0.07 f1_score , we could understand it from the confusion matrix plot as it fails to predict postitives"
   ]
  },
  {
   "cell_type": "markdown",
   "id": "783b2eff",
   "metadata": {},
   "source": [
    "### Ensemble Models"
   ]
  },
  {
   "cell_type": "code",
   "execution_count": 64,
   "id": "90bd2564",
   "metadata": {},
   "outputs": [],
   "source": [
    "from sklearn.ensemble import RandomForestClassifier\n",
    "from sklearn.ensemble import GradientBoostingClassifier\n",
    "from xgboost import XGBClassifier"
   ]
  },
  {
   "cell_type": "markdown",
   "id": "41a7f40e",
   "metadata": {},
   "source": [
    "### Randomforest"
   ]
  },
  {
   "cell_type": "code",
   "execution_count": 65,
   "id": "aaf8bc15",
   "metadata": {},
   "outputs": [],
   "source": [
    "rfc = RandomForestClassifier()\n",
    "rfc.fit(X_train,y_train)\n",
    "y_pred_rfc = rfc.predict(X_test)"
   ]
  },
  {
   "cell_type": "code",
   "execution_count": 66,
   "id": "a3be3316",
   "metadata": {},
   "outputs": [
    {
     "name": "stdout",
     "output_type": "stream",
     "text": [
      "              precision    recall  f1-score   support\n",
      "\n",
      "           0       0.90      0.99      0.94       787\n",
      "           1       0.94      0.53      0.68       191\n",
      "\n",
      "    accuracy                           0.90       978\n",
      "   macro avg       0.92      0.76      0.81       978\n",
      "weighted avg       0.91      0.90      0.89       978\n",
      "\n"
     ]
    }
   ],
   "source": [
    "print(classification_report(y_test,y_pred_rfc))\n",
    "acc_rfc=accuracy_score(y_test,y_pred_rfc)\n",
    "f1_rfc=f1_score(y_test,y_pred_rfc)"
   ]
  },
  {
   "cell_type": "code",
   "execution_count": 67,
   "id": "bbaf7398",
   "metadata": {},
   "outputs": [
    {
     "data": {
      "text/plain": [
       "<sklearn.metrics._plot.confusion_matrix.ConfusionMatrixDisplay at 0x15a8ab86160>"
      ]
     },
     "execution_count": 67,
     "metadata": {},
     "output_type": "execute_result"
    },
    {
     "data": {
      "image/png": "[encoded data removed]",
      "text/plain": [
       "<Figure size 432x288 with 2 Axes>"
      ]
     },
     "metadata": {},
     "output_type": "display_data"
    }
   ],
   "source": [
    "plot_confusion_matrix(rfc,X_test,y_test)"
   ]
  },
  {
   "cell_type": "code",
   "execution_count": 68,
   "id": "b922e3cb",
   "metadata": {},
   "outputs": [
    {
     "data": {
      "text/plain": [
       "MonthlyIncome                    11.976821\n",
       "Age                              11.419931\n",
       "DurationOfPitch                   9.786232\n",
       "Passport                          7.817493\n",
       "NumberOfTrips                     6.354126\n",
       "PitchSatisfactionScore            5.650491\n",
       "NumberOfFollowups                 5.149286\n",
       "PreferredPropertyStar             4.342828\n",
       "CityTier                          3.528498\n",
       "NumberOfChildrenVisiting          2.955844\n",
       "NumberOfPersonVisiting            2.751567\n",
       "MaritalStatus_Single              2.384650\n",
       "Occupation_Small Business         2.096655\n",
       "OwnCar                            2.077555\n",
       "Designation_Executive             1.940383\n",
       "Occupation_Salaried               1.800551\n",
       "Gender_Male                       1.758290\n",
       "ProductPitched_Basic              1.744882\n",
       "TypeofContact_Self Enquiry        1.743743\n",
       "Gender_Female                     1.734539\n",
       "TypeofContact_Company Invited     1.644571\n",
       "MaritalStatus_Married             1.558713\n",
       "MaritalStatus_Unmarried           1.440559\n",
       "Occupation_Large Business         1.391818\n",
       "MaritalStatus_Divorced            1.090427\n",
       "ProductPitched_Deluxe             0.877730\n",
       "Designation_Manager               0.867836\n",
       "Designation_Senior Manager        0.557666\n",
       "ProductPitched_Standard           0.504714\n",
       "ProductPitched_Super Deluxe       0.339660\n",
       "Designation_AVP                   0.311765\n",
       "Designation_VP                    0.226670\n",
       "ProductPitched_King               0.146151\n",
       "Occupation_Free Lancer            0.027354\n",
       "dtype: float64"
      ]
     },
     "execution_count": 68,
     "metadata": {},
     "output_type": "execute_result"
    }
   ],
   "source": [
    "pd.Series(rfc.feature_importances_, index=X.columns).sort_values(ascending=False)*100"
   ]
  },
  {
   "cell_type": "markdown",
   "id": "a6b9366d",
   "metadata": {},
   "source": [
    "### Gradient boosting"
   ]
  },
  {
   "cell_type": "code",
   "execution_count": 69,
   "id": "bd153e57",
   "metadata": {},
   "outputs": [],
   "source": [
    "gbc = GradientBoostingClassifier()\n",
    "gbc.fit(X_train,y_train)\n",
    "y_pred_gbc = gbc.predict(X_test)"
   ]
  },
  {
   "cell_type": "code",
   "execution_count": 70,
   "id": "8543900f",
   "metadata": {},
   "outputs": [
    {
     "name": "stdout",
     "output_type": "stream",
     "text": [
      "              precision    recall  f1-score   support\n",
      "\n",
      "           0       0.87      0.97      0.92       787\n",
      "           1       0.78      0.38      0.51       191\n",
      "\n",
      "    accuracy                           0.86       978\n",
      "   macro avg       0.83      0.68      0.72       978\n",
      "weighted avg       0.85      0.86      0.84       978\n",
      "\n"
     ]
    }
   ],
   "source": [
    "print(classification_report(y_test,y_pred_gbc))\n",
    "acc_gbc=accuracy_score(y_test,y_pred_gbc)\n",
    "f1_gbc=f1_score(y_test,y_pred_gbc)"
   ]
  },
  {
   "cell_type": "code",
   "execution_count": 71,
   "id": "6bdafcdc",
   "metadata": {},
   "outputs": [
    {
     "data": {
      "text/plain": [
       "<sklearn.metrics._plot.confusion_matrix.ConfusionMatrixDisplay at 0x15a8b9d5ca0>"
      ]
     },
     "execution_count": 71,
     "metadata": {},
     "output_type": "execute_result"
    },
    {
     "data": {
      "image/png": "[encoded data removed]",
      "text/plain": [
       "<Figure size 432x288 with 2 Axes>"
      ]
     },
     "metadata": {},
     "output_type": "display_data"
    }
   ],
   "source": [
    "plot_confusion_matrix(gbc,X_test,y_test)"
   ]
  },
  {
   "cell_type": "markdown",
   "id": "af6d616f",
   "metadata": {},
   "source": [
    "### XGBoost"
   ]
  },
  {
   "cell_type": "code",
   "execution_count": 72,
   "id": "a35a29dc",
   "metadata": {},
   "outputs": [
    {
     "name": "stdout",
     "output_type": "stream",
     "text": [
      "[16:05:29] WARNING: C:/Users/Administrator/workspace/xgboost-win64_release_1.5.1/src/learner.cc:1115: Starting in XGBoost 1.3.0, the default evaluation metric used with the objective 'binary:logistic' was changed from 'error' to 'logloss'. Explicitly set eval_metric if you'd like to restore the old behavior.\n"
     ]
    }
   ],
   "source": [
    "xgb = XGBClassifier()\n",
    "xgb.fit(X_train,y_train)\n",
    "y_pred_xgb = xgb.predict(X_test)"
   ]
  },
  {
   "cell_type": "code",
   "execution_count": 73,
   "id": "6739df37",
   "metadata": {},
   "outputs": [
    {
     "name": "stdout",
     "output_type": "stream",
     "text": [
      "              precision    recall  f1-score   support\n",
      "\n",
      "           0       0.92      0.99      0.95       787\n",
      "           1       0.94      0.65      0.77       191\n",
      "\n",
      "    accuracy                           0.92       978\n",
      "   macro avg       0.93      0.82      0.86       978\n",
      "weighted avg       0.93      0.92      0.92       978\n",
      "\n"
     ]
    }
   ],
   "source": [
    "print(classification_report(y_test,y_pred_xgb))\n",
    "acc_xgb=accuracy_score(y_test,y_pred_xgb)\n",
    "f1_xgb=f1_score(y_test,y_pred_xgb)"
   ]
  },
  {
   "cell_type": "code",
   "execution_count": 74,
   "id": "b3c4f1fe",
   "metadata": {},
   "outputs": [
    {
     "data": {
      "text/plain": [
       "0.7716049382716049"
      ]
     },
     "execution_count": 74,
     "metadata": {},
     "output_type": "execute_result"
    }
   ],
   "source": [
    "f1_score(y_test,y_pred_xgb)"
   ]
  },
  {
   "cell_type": "code",
   "execution_count": 75,
   "id": "7fe202cd",
   "metadata": {},
   "outputs": [
    {
     "data": {
      "text/plain": [
       "<sklearn.metrics._plot.confusion_matrix.ConfusionMatrixDisplay at 0x15a8abb4910>"
      ]
     },
     "execution_count": 75,
     "metadata": {},
     "output_type": "execute_result"
    },
    {
     "data": {
      "image/png": "[encoded data removed]",
      "text/plain": [
       "<Figure size 432x288 with 2 Axes>"
      ]
     },
     "metadata": {},
     "output_type": "display_data"
    }
   ],
   "source": [
    "plot_confusion_matrix(xgb,X_test,y_test)"
   ]
  },
  {
   "cell_type": "markdown",
   "id": "9b909b5f",
   "metadata": {},
   "source": [
    "### Model performance evaluation:\n",
    "Comparing all ensembling models along with Decisiontree using accuracy and f1_score"
   ]
  },
  {
   "cell_type": "code",
   "execution_count": 76,
   "id": "875b8e1f",
   "metadata": {},
   "outputs": [
    {
     "data": {
      "text/html": [
       "<div>\n",
       "<style scoped>\n",
       "    .dataframe tbody tr th:only-of-type {\n",
       "        vertical-align: middle;\n",
       "    }\n",
       "\n",
       "    .dataframe tbody tr th {\n",
       "        vertical-align: top;\n",
       "    }\n",
       "\n",
       "    .dataframe thead th {\n",
       "        text-align: right;\n",
       "    }\n",
       "</style>\n",
       "<table border=\"1\" class=\"dataframe\">\n",
       "  <thead>\n",
       "    <tr style=\"text-align: right;\">\n",
       "      <th></th>\n",
       "      <th>Accuracy</th>\n",
       "      <th>F1_Score</th>\n",
       "    </tr>\n",
       "  </thead>\n",
       "  <tbody>\n",
       "    <tr>\n",
       "      <th>DecisionTree</th>\n",
       "      <td>0.921268</td>\n",
       "      <td>0.794667</td>\n",
       "    </tr>\n",
       "    <tr>\n",
       "      <th>RandomForest</th>\n",
       "      <td>0.901840</td>\n",
       "      <td>0.680000</td>\n",
       "    </tr>\n",
       "    <tr>\n",
       "      <th>GradientBoost</th>\n",
       "      <td>0.858896</td>\n",
       "      <td>0.514085</td>\n",
       "    </tr>\n",
       "    <tr>\n",
       "      <th>XGBooster</th>\n",
       "      <td>0.924335</td>\n",
       "      <td>0.771605</td>\n",
       "    </tr>\n",
       "  </tbody>\n",
       "</table>\n",
       "</div>"
      ],
      "text/plain": [
       "               Accuracy  F1_Score\n",
       "DecisionTree   0.921268  0.794667\n",
       "RandomForest   0.901840  0.680000\n",
       "GradientBoost  0.858896  0.514085\n",
       "XGBooster      0.924335  0.771605"
      ]
     },
     "execution_count": 76,
     "metadata": {},
     "output_type": "execute_result"
    }
   ],
   "source": [
    "comp2 = pd.DataFrame({'DecisionTree':[acc_dt,f1_dt],\n",
    "                     'RandomForest':[acc_rfc,f1_rfc],\n",
    "                    'GradientBoost':[acc_gbc,f1_gbc],\n",
    "                    'XGBooster':[acc_xgb,f1_xgb]\n",
    "                    },index=['Accuracy','F1_Score'])\n",
    "comp2.transpose()"
   ]
  },
  {
   "cell_type": "markdown",
   "id": "333b723e",
   "metadata": {},
   "source": [
    "### Modelling Inference 2:\n",
    "<ul>\n",
    "    <li> <b>XGBooster</b> have the highest accuracy(92%)\n",
    "    <li> While <b>DecisionTree</b> has the highest f1_score (0.78)\n",
    "    <li> And we can see all the four models have good accuacy score\n",
    "    <li>But while comparing f1 score Gradient boost shows very low value    "
   ]
  },
  {
   "cell_type": "markdown",
   "id": "d4b0c171",
   "metadata": {},
   "source": [
    "## Final modelling Inference\n",
    "If we read both the inferences we could finalize four models that are good fit for this particular classification problem. They are:\n",
    "<ol>\n",
    "<b><li> Decision Tree\n",
    "<li>XGBooster\n",
    "<li>RandomForest\n",
    "<li>Gradient Boost"
   ]
  },
  {
   "cell_type": "markdown",
   "id": "78f4b06f",
   "metadata": {},
   "source": [
    "# M5:Model Fine Tuning "
   ]
  },
  {
   "cell_type": "markdown",
   "id": "75a23007",
   "metadata": {},
   "source": [
    "### 1. Random Forest hyper parameter tuning"
   ]
  },
  {
   "cell_type": "code",
   "execution_count": 77,
   "id": "cfa4d6d4",
   "metadata": {},
   "outputs": [],
   "source": [
    "from sklearn.model_selection import GridSearchCV"
   ]
  },
  {
   "cell_type": "code",
   "execution_count": 78,
   "id": "04871e9f",
   "metadata": {},
   "outputs": [],
   "source": [
    "n_estimators=[64,100,128,200]\n",
    "max_features= [2,3,4]\n",
    "bootstrap = [True,False]\n",
    "oob_score = [True,False]"
   ]
  },
  {
   "cell_type": "code",
   "execution_count": 79,
   "id": "8304ae5f",
   "metadata": {},
   "outputs": [],
   "source": [
    "param_grid = {'n_estimators':n_estimators,\n",
    "             'max_features':max_features,\n",
    "             'bootstrap':bootstrap,\n",
    "             'oob_score':oob_score} "
   ]
  },
  {
   "cell_type": "code",
   "execution_count": 80,
   "id": "d0d94deb",
   "metadata": {},
   "outputs": [],
   "source": [
    "rfc = RandomForestClassifier()\n",
    "grid = GridSearchCV(rfc,param_grid)"
   ]
  },
  {
   "cell_type": "code",
   "execution_count": 81,
   "id": "88b3bc6f",
   "metadata": {},
   "outputs": [
    {
     "data": {
      "text/plain": [
       "GridSearchCV(estimator=RandomForestClassifier(),\n",
       "             param_grid={'bootstrap': [True, False], 'max_features': [2, 3, 4],\n",
       "                         'n_estimators': [64, 100, 128, 200],\n",
       "                         'oob_score': [True, False]})"
      ]
     },
     "execution_count": 81,
     "metadata": {},
     "output_type": "execute_result"
    }
   ],
   "source": [
    "grid.fit(X_train,y_train)"
   ]
  },
  {
   "cell_type": "code",
   "execution_count": 82,
   "id": "b3686119",
   "metadata": {},
   "outputs": [
    {
     "data": {
      "text/plain": [
       "{'bootstrap': False,\n",
       " 'max_features': 4,\n",
       " 'n_estimators': 100,\n",
       " 'oob_score': False}"
      ]
     },
     "execution_count": 82,
     "metadata": {},
     "output_type": "execute_result"
    }
   ],
   "source": [
    "grid.best_params_"
   ]
  },
  {
   "cell_type": "code",
   "execution_count": 83,
   "id": "0d513191",
   "metadata": {},
   "outputs": [],
   "source": [
    "predictions = grid.predict(X_test)"
   ]
  },
  {
   "cell_type": "code",
   "execution_count": 92,
   "id": "d14a1291",
   "metadata": {},
   "outputs": [
    {
     "name": "stdout",
     "output_type": "stream",
     "text": [
      "              precision    recall  f1-score   support\n",
      "\n",
      "           0       0.92      0.99      0.95       787\n",
      "           1       0.92      0.63      0.75       191\n",
      "\n",
      "    accuracy                           0.92       978\n",
      "   macro avg       0.92      0.81      0.85       978\n",
      "weighted avg       0.92      0.92      0.91       978\n",
      "\n"
     ]
    }
   ],
   "source": [
    "print(classification_report(y_test,predictions))\n",
    "acc_rfc2 = accuracy_score(y_test,predictions)\n",
    "f1_rfc2=f1_score(y_test,predictions)"
   ]
  },
  {
   "cell_type": "code",
   "execution_count": 85,
   "id": "d0c17e0f",
   "metadata": {},
   "outputs": [
    {
     "data": {
      "text/plain": [
       "<sklearn.metrics._plot.confusion_matrix.ConfusionMatrixDisplay at 0x15a857238b0>"
      ]
     },
     "execution_count": 85,
     "metadata": {},
     "output_type": "execute_result"
    },
    {
     "data": {
      "image/png": "[encoded data removed]",
      "text/plain": [
       "<Figure size 432x288 with 2 Axes>"
      ]
     },
     "metadata": {},
     "output_type": "display_data"
    }
   ],
   "source": [
    "plot_confusion_matrix(grid,X_test,y_test)"
   ]
  },
  {
   "cell_type": "code",
   "execution_count": null,
   "id": "f09359b5",
   "metadata": {},
   "outputs": [],
   "source": [
    "### Comparing accuracy and f1_score "
   ]
  },
  {
   "cell_type": "code",
   "execution_count": 94,
   "id": "255ea174",
   "metadata": {},
   "outputs": [
    {
     "data": {
      "text/html": [
       "<div>\n",
       "<style scoped>\n",
       "    .dataframe tbody tr th:only-of-type {\n",
       "        vertical-align: middle;\n",
       "    }\n",
       "\n",
       "    .dataframe tbody tr th {\n",
       "        vertical-align: top;\n",
       "    }\n",
       "\n",
       "    .dataframe thead th {\n",
       "        text-align: right;\n",
       "    }\n",
       "</style>\n",
       "<table border=\"1\" class=\"dataframe\">\n",
       "  <thead>\n",
       "    <tr style=\"text-align: right;\">\n",
       "      <th></th>\n",
       "      <th>Accuracy</th>\n",
       "      <th>F1_Score</th>\n",
       "    </tr>\n",
       "  </thead>\n",
       "  <tbody>\n",
       "    <tr>\n",
       "      <th>BeforeTuning</th>\n",
       "      <td>0.90184</td>\n",
       "      <td>0.680000</td>\n",
       "    </tr>\n",
       "    <tr>\n",
       "      <th>AfterTuning</th>\n",
       "      <td>0.91820</td>\n",
       "      <td>0.751553</td>\n",
       "    </tr>\n",
       "  </tbody>\n",
       "</table>\n",
       "</div>"
      ],
      "text/plain": [
       "              Accuracy  F1_Score\n",
       "BeforeTuning   0.90184  0.680000\n",
       "AfterTuning    0.91820  0.751553"
      ]
     },
     "execution_count": 94,
     "metadata": {},
     "output_type": "execute_result"
    }
   ],
   "source": [
    "randfor = pd.DataFrame({\n",
    "                     'BeforeTuning':[acc_rfc,f1_rfc],\n",
    "                    'AfterTuning':[acc_rfc2,f1_rfc2]\n",
    "                    },index=['Accuracy','F1_Score'])\n",
    "randfor.transpose()"
   ]
  },
  {
   "cell_type": "markdown",
   "id": "bdb34d77",
   "metadata": {},
   "source": [
    "### Hyper parameter tuning have increased the accuracy as well as f1_score for Random Forest"
   ]
  },
  {
   "cell_type": "markdown",
   "id": "25bd770f",
   "metadata": {},
   "source": [
    "### Gradient Boost Hyper parameter tuning"
   ]
  },
  {
   "cell_type": "code",
   "execution_count": 86,
   "id": "58d3ce4d",
   "metadata": {},
   "outputs": [],
   "source": [
    "\n",
    "param_grid = {\"n_estimators\":[1,5,10,20,40,100],'max_depth':[3,4,5,6]}"
   ]
  },
  {
   "cell_type": "code",
   "execution_count": 87,
   "id": "d3248537",
   "metadata": {},
   "outputs": [],
   "source": [
    "gb_model = GradientBoostingClassifier()"
   ]
  },
  {
   "cell_type": "code",
   "execution_count": 88,
   "id": "035e0a64",
   "metadata": {},
   "outputs": [],
   "source": [
    "grid = GridSearchCV(gb_model,param_grid)"
   ]
  },
  {
   "cell_type": "code",
   "execution_count": 89,
   "id": "c0a4a6f5",
   "metadata": {},
   "outputs": [
    {
     "data": {
      "text/plain": [
       "GridSearchCV(estimator=GradientBoostingClassifier(),\n",
       "             param_grid={'max_depth': [3, 4, 5, 6],\n",
       "                         'n_estimators': [1, 5, 10, 20, 40, 100]})"
      ]
     },
     "execution_count": 89,
     "metadata": {},
     "output_type": "execute_result"
    }
   ],
   "source": [
    "grid.fit(X_train,y_train)"
   ]
  },
  {
   "cell_type": "code",
   "execution_count": 90,
   "id": "19c2fcc7",
   "metadata": {},
   "outputs": [
    {
     "data": {
      "text/plain": [
       "{'max_depth': 6, 'n_estimators': 100}"
      ]
     },
     "execution_count": 90,
     "metadata": {},
     "output_type": "execute_result"
    }
   ],
   "source": [
    "grid.best_params_"
   ]
  },
  {
   "cell_type": "code",
   "execution_count": 91,
   "id": "15edc190",
   "metadata": {},
   "outputs": [],
   "source": [
    "predictions = grid.predict(X_test)"
   ]
  },
  {
   "cell_type": "code",
   "execution_count": 95,
   "id": "595ce6f0",
   "metadata": {},
   "outputs": [
    {
     "name": "stdout",
     "output_type": "stream",
     "text": [
      "              precision    recall  f1-score   support\n",
      "\n",
      "           0       0.92      0.99      0.95       787\n",
      "           1       0.92      0.63      0.75       191\n",
      "\n",
      "    accuracy                           0.92       978\n",
      "   macro avg       0.92      0.81      0.85       978\n",
      "weighted avg       0.92      0.92      0.91       978\n",
      "\n"
     ]
    }
   ],
   "source": [
    "print(classification_report(y_test,predictions))\n",
    "acc_gbc2 = accuracy_score(y_test,predictions)\n",
    "f1_gbc2=f1_score(y_test,predictions)"
   ]
  },
  {
   "cell_type": "code",
   "execution_count": 96,
   "id": "1e43472a",
   "metadata": {},
   "outputs": [
    {
     "data": {
      "text/plain": [
       "<sklearn.metrics._plot.confusion_matrix.ConfusionMatrixDisplay at 0x15a8cb3dca0>"
      ]
     },
     "execution_count": 96,
     "metadata": {},
     "output_type": "execute_result"
    },
    {
     "data": {
      "image/png": "[encoded data removed]",
      "text/plain": [
       "<Figure size 432x288 with 2 Axes>"
      ]
     },
     "metadata": {},
     "output_type": "display_data"
    }
   ],
   "source": [
    "plot_confusion_matrix(grid,X_test,y_test)"
   ]
  },
  {
   "cell_type": "code",
   "execution_count": 97,
   "id": "1a3de56b",
   "metadata": {},
   "outputs": [
    {
     "data": {
      "text/html": [
       "<div>\n",
       "<style scoped>\n",
       "    .dataframe tbody tr th:only-of-type {\n",
       "        vertical-align: middle;\n",
       "    }\n",
       "\n",
       "    .dataframe tbody tr th {\n",
       "        vertical-align: top;\n",
       "    }\n",
       "\n",
       "    .dataframe thead th {\n",
       "        text-align: right;\n",
       "    }\n",
       "</style>\n",
       "<table border=\"1\" class=\"dataframe\">\n",
       "  <thead>\n",
       "    <tr style=\"text-align: right;\">\n",
       "      <th></th>\n",
       "      <th>Accuracy</th>\n",
       "      <th>F1_Score</th>\n",
       "    </tr>\n",
       "  </thead>\n",
       "  <tbody>\n",
       "    <tr>\n",
       "      <th>BeforeTuning</th>\n",
       "      <td>0.858896</td>\n",
       "      <td>0.514085</td>\n",
       "    </tr>\n",
       "    <tr>\n",
       "      <th>AfterTuning</th>\n",
       "      <td>0.918200</td>\n",
       "      <td>0.751553</td>\n",
       "    </tr>\n",
       "  </tbody>\n",
       "</table>\n",
       "</div>"
      ],
      "text/plain": [
       "              Accuracy  F1_Score\n",
       "BeforeTuning  0.858896  0.514085\n",
       "AfterTuning   0.918200  0.751553"
      ]
     },
     "execution_count": 97,
     "metadata": {},
     "output_type": "execute_result"
    }
   ],
   "source": [
    "gradboost = pd.DataFrame({\n",
    "                     'BeforeTuning':[acc_gbc,f1_gbc],\n",
    "                    'AfterTuning':[acc_gbc2,f1_gbc2]\n",
    "                    },index=['Accuracy','F1_Score'])\n",
    "gradboost.transpose()"
   ]
  },
  {
   "cell_type": "markdown",
   "id": "10f08909",
   "metadata": {},
   "source": [
    "### Hyper parameter tuning have increased the accuracy as well as f1_score very mcuh for Gradient Boost"
   ]
  },
  {
   "cell_type": "markdown",
   "id": "973dd13e",
   "metadata": {},
   "source": [
    "## Comparing both"
   ]
  },
  {
   "cell_type": "code",
   "execution_count": 106,
   "id": "9c540b40",
   "metadata": {},
   "outputs": [
    {
     "data": {
      "text/html": [
       "<div>\n",
       "<style scoped>\n",
       "    .dataframe tbody tr th:only-of-type {\n",
       "        vertical-align: middle;\n",
       "    }\n",
       "\n",
       "    .dataframe tbody tr th {\n",
       "        vertical-align: top;\n",
       "    }\n",
       "\n",
       "    .dataframe thead th {\n",
       "        text-align: right;\n",
       "    }\n",
       "</style>\n",
       "<table border=\"1\" class=\"dataframe\">\n",
       "  <thead>\n",
       "    <tr style=\"text-align: right;\">\n",
       "      <th></th>\n",
       "      <th>Accuracy</th>\n",
       "      <th>F1_Score</th>\n",
       "    </tr>\n",
       "  </thead>\n",
       "  <tbody>\n",
       "    <tr>\n",
       "      <th>RandomForest</th>\n",
       "      <td>0.9182</td>\n",
       "      <td>0.751553</td>\n",
       "    </tr>\n",
       "    <tr>\n",
       "      <th>GradientBoost</th>\n",
       "      <td>0.9182</td>\n",
       "      <td>0.751553</td>\n",
       "    </tr>\n",
       "  </tbody>\n",
       "</table>\n",
       "</div>"
      ],
      "text/plain": [
       "               Accuracy  F1_Score\n",
       "RandomForest     0.9182  0.751553\n",
       "GradientBoost    0.9182  0.751553"
      ]
     },
     "execution_count": 106,
     "metadata": {},
     "output_type": "execute_result"
    }
   ],
   "source": [
    "comp3 = pd.DataFrame({\n",
    "                     'RandomForest':[acc_rfc2,f1_rfc2],\n",
    "                    'GradientBoost':[acc_gbc2,f1_gbc2],\n",
    "                    \n",
    "                    },index=['Accuracy','F1_Score'])\n",
    "comp3.transpose()"
   ]
  },
  {
   "cell_type": "markdown",
   "id": "364fb5ff",
   "metadata": {},
   "source": [
    "#### After tuning both have same accuracy and f1_score"
   ]
  },
  {
   "cell_type": "code",
   "execution_count": 111,
   "id": "d5ab6050",
   "metadata": {},
   "outputs": [
    {
     "data": {
      "text/plain": [
       "Age                              11.416653\n",
       "MonthlyIncome                    11.092343\n",
       "DurationOfPitch                  10.466945\n",
       "Passport                          7.850238\n",
       "NumberOfTrips                     6.253010\n",
       "PitchSatisfactionScore            6.119324\n",
       "NumberOfFollowups                 5.006437\n",
       "PreferredPropertyStar             4.547819\n",
       "CityTier                          3.571908\n",
       "NumberOfPersonVisiting            2.649820\n",
       "NumberOfChildrenVisiting          2.632542\n",
       "MaritalStatus_Single              2.262304\n",
       "OwnCar                            2.088355\n",
       "Occupation_Small Business         2.084707\n",
       "Designation_Executive             1.985275\n",
       "Occupation_Salaried               1.956537\n",
       "TypeofContact_Company Invited     1.882212\n",
       "Gender_Male                       1.856593\n",
       "Gender_Female                     1.778600\n",
       "TypeofContact_Self Enquiry        1.764462\n",
       "ProductPitched_Basic              1.714840\n",
       "MaritalStatus_Married             1.561748\n",
       "Occupation_Large Business         1.398860\n",
       "MaritalStatus_Unmarried           1.301776\n",
       "MaritalStatus_Divorced            1.203589\n",
       "Designation_Manager               0.766790\n",
       "ProductPitched_Deluxe             0.748541\n",
       "Designation_Senior Manager        0.539645\n",
       "ProductPitched_Standard           0.499210\n",
       "ProductPitched_Super Deluxe       0.302909\n",
       "Designation_AVP                   0.300987\n",
       "Designation_VP                    0.198601\n",
       "ProductPitched_King               0.160759\n",
       "Occupation_Free Lancer            0.035657\n",
       "dtype: float64"
      ]
     },
     "execution_count": 111,
     "metadata": {},
     "output_type": "execute_result"
    }
   ],
   "source": [
    "rfc2=RandomForestClassifier(bootstrap=False,max_features= 4,n_estimators=100,oob_score= False)\n",
    "rfc2.fit(X_train,y_train)\n",
    "pd.Series(rfc2.feature_importances_, index=X.columns).sort_values(ascending=False)*100"
   ]
  },
  {
   "cell_type": "code",
   "execution_count": null,
   "id": "eb3d5447",
   "metadata": {},
   "outputs": [],
   "source": []
  },
  {
   "cell_type": "markdown",
   "id": "70a31195",
   "metadata": {},
   "source": [
    "# Final inference \n",
    "<ul>\n",
    "    <li>Hyper parameter tuning have great effect on both Random Forest and Gradient  Boosting \n",
    "     <li> The best parameters for knowing the puchasing behaviour are :<b>  Age,\n",
    "MonthlyIncome,\n",
    "DurationOfPitch,\n",
    "Passport,\n",
    "NumberOfTrips, and\n",
    "PitchSatisfactionScore"
   ]
  },
  {
   "cell_type": "markdown",
   "id": "52357cc4",
   "metadata": {},
   "source": [
    "### Visit With Us tourism company can now continue working on the  Wellness Tourism Package by knowing  which customers more likely to purchase the newly introduced package"
   ]
  },
  {
   "cell_type": "markdown",
   "id": "603c98e4",
   "metadata": {},
   "source": [
    "# END"
   ]
  }
 ],
 "metadata": {
  "kernelspec": {
   "display_name": "Python 3 (ipykernel)",
   "language": "python",
   "name": "python3"
  },
  "language_info": {
   "codemirror_mode": {
    "name": "ipython",
    "version": 3
   },
   "file_extension": ".py",
   "mimetype": "text/x-python",
   "name": "python",
   "nbconvert_exporter": "python",
   "pygments_lexer": "ipython3",
   "version": "3.8.12"
  }
 },
 "nbformat": 4,
 "nbformat_minor": 5
}
